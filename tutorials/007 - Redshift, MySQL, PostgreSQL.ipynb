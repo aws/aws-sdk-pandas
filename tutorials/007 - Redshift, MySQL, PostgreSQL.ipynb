{
 "cells": [
  {
   "cell_type": "markdown",
   "metadata": {},
   "source": [
    "[![AWS Data Wrangler](_static/logo.png \"AWS Data Wrangler\")](https://github.com/awslabs/aws-data-wrangler)\n",
    "\n",
    "# 7 - Databases (Redshift, MySQL and PostgreSQL)\n",
    "\n",
    "[Wrangler](https://github.com/awslabs/aws-data-wrangler)'s Database module (`wr.db.*`) has two mainly functions that tries to follow the Pandas conventions, but add more data type consistency.\n",
    "\n",
    "- [wr.db.to_sql()](https://aws-data-wrangler.readthedocs.io/en/latest/stubs/awswrangler.db.to_sql.html#awswrangler.db.to_sql)\n",
    "\n",
    "- [wr.db.read_sql_query()](https://aws-data-wrangler.readthedocs.io/en/latest/stubs/awswrangler.db.read_sql_query.html#awswrangler.db.read_sql_query)"
   ]
  },
  {
   "cell_type": "code",
   "execution_count": 1,
   "metadata": {},
   "outputs": [],
   "source": [
    "import awswrangler as wr\n",
    "import pandas as pd\n",
    "\n",
    "df = pd.DataFrame({\n",
    "    \"id\": [1, 2],\n",
    "    \"name\": [\"foo\", \"boo\"]\n",
    "})"
   ]
  },
  {
   "cell_type": "markdown",
   "metadata": {},
   "source": [
    "### Creating an engine (SQLAlchemy Engine)\n",
    "\n",
    "The Wrangler offers basically three diffent ways to create a SQLAlchemy engine.\n",
    "\n",
    "1 - [wr.catalog.get_engine()](https://aws-data-wrangler.readthedocs.io/en/latest/stubs/awswrangler.catalog.get_engine.html#awswrangler.catalog.get_engine): Get the engine from a Glue Catalog Connection.\n",
    "\n",
    "2 - [wr.db.get_engine()](https://aws-data-wrangler.readthedocs.io/en/latest/stubs/awswrangler.db.get_engine.html#awswrangler.db.get_engine): Get the engine from primitives values (host, user, password, etc).\n",
    "\n",
    "3 - [wr.db.get_redshift_temp_engine()](https://aws-data-wrangler.readthedocs.io/en/latest/stubs/awswrangler.db.get_redshift_temp_engine.html#awswrangler.db.get_redshift_temp_engine): Get redshift engine with temporary credentials. "
   ]
  },
  {
   "cell_type": "code",
   "execution_count": 2,
   "metadata": {},
   "outputs": [],
   "source": [
    "eng_postgresql = wr.catalog.get_engine(\"aws-data-wrangler-postgresql\")\n",
    "eng_mysql = wr.catalog.get_engine(\"aws-data-wrangler-mysql\")\n",
    "eng_redshift = wr.catalog.get_engine(\"aws-data-wrangler-redshift\")"
   ]
  },
  {
   "cell_type": "markdown",
   "metadata": {},
   "source": [
    "## Raw SQL queries (No Pandas)"
   ]
  },
  {
   "cell_type": "code",
   "execution_count": 3,
   "metadata": {},
   "outputs": [
    {
     "name": "stdout",
     "output_type": "stream",
     "text": [
      "(1,)\n"
     ]
    }
   ],
   "source": [
    "with eng_postgresql.connect() as con:\n",
    "    for row in con.execute(\"SELECT 1\"):\n",
    "        print(row)"
   ]
  },
  {
   "cell_type": "markdown",
   "metadata": {},
   "source": [
    "## Loading data to Database"
   ]
  },
  {
   "cell_type": "code",
   "execution_count": 4,
   "metadata": {},
   "outputs": [],
   "source": [
    "wr.db.to_sql(df, eng_postgresql, schema=\"public\", name=\"tutorial\", if_exists=\"replace\", index=False)  # PostgreSQL\n",
    "wr.db.to_sql(df, eng_mysql, schema=\"test\", name=\"tutorial\", if_exists=\"replace\", index=False)  # MySQL\n",
    "wr.db.to_sql(df, eng_redshift, schema=\"public\", name=\"tutorial\", if_exists=\"replace\", index=False)  # Redshift"
   ]
  },
  {
   "cell_type": "markdown",
   "metadata": {},
   "source": [
    "## Unloading data from Database"
   ]
  },
  {
   "cell_type": "code",
   "execution_count": 5,
   "metadata": {},
   "outputs": [
    {
     "data": {
      "text/html": [
       "<div>\n",
       "<style scoped>\n",
       "    .dataframe tbody tr th:only-of-type {\n",
       "        vertical-align: middle;\n",
       "    }\n",
       "\n",
       "    .dataframe tbody tr th {\n",
       "        vertical-align: top;\n",
       "    }\n",
       "\n",
       "    .dataframe thead th {\n",
       "        text-align: right;\n",
       "    }\n",
       "</style>\n",
       "<table border=\"1\" class=\"dataframe\">\n",
       "  <thead>\n",
       "    <tr style=\"text-align: right;\">\n",
       "      <th></th>\n",
       "      <th>id</th>\n",
       "      <th>name</th>\n",
       "    </tr>\n",
       "  </thead>\n",
       "  <tbody>\n",
       "    <tr>\n",
       "      <th>0</th>\n",
       "      <td>1</td>\n",
       "      <td>foo</td>\n",
       "    </tr>\n",
       "    <tr>\n",
       "      <th>1</th>\n",
       "      <td>2</td>\n",
       "      <td>boo</td>\n",
       "    </tr>\n",
       "  </tbody>\n",
       "</table>\n",
       "</div>"
      ],
      "text/plain": [
       "   id name\n",
       "0   1  foo\n",
       "1   2  boo"
      ]
     },
     "execution_count": 5,
     "metadata": {},
     "output_type": "execute_result"
    }
   ],
   "source": [
    "wr.db.read_sql_query(\"SELECT * FROM public.tutorial\", con=eng_postgresql)  # PostgreSQL\n",
    "wr.db.read_sql_query(\"SELECT * FROM test.tutorial\", con=eng_mysql)  # MySQL\n",
    "wr.db.read_sql_query(\"SELECT * FROM public.tutorial\", con=eng_redshift)  # Redshift"
   ]
  },
  {
   "cell_type": "code",
   "execution_count": null,
   "metadata": {},
   "outputs": [],
   "source": []
  }
 ],
 "metadata": {
  "kernelspec": {
   "display_name": "conda_python3",
   "language": "python",
   "name": "conda_python3"
  },
  "language_info": {
   "codemirror_mode": {
    "name": "ipython",
    "version": 3
   },
   "file_extension": ".py",
   "mimetype": "text/x-python",
   "name": "python",
   "nbconvert_exporter": "python",
   "pygments_lexer": "ipython3",
   "version": "3.6.10"
  },
  "pycharm": {
   "stem_cell": {
    "cell_type": "raw",
    "metadata": {
     "collapsed": false
    },
    "source": []
   }
  }
 },
 "nbformat": 4,
 "nbformat_minor": 4
}
