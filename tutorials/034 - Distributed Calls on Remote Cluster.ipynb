{
 "cells": [
  {
   "cell_type": "markdown",
   "metadata": {},
   "source": [
    "[![AWS SDK for pandas](_static/logo.png \"AWS SDK for pandas\")](https://github.com/aws/aws-sdk-pandas)\n",
    "\n",
    "# 7 - Distributed Calls on Remote Cluster\n",
    "\n",
    "[SDK for pandas](https://github.com/aws/aws-sdk-pandas) supports distribution of specific calls using [ray](https://www.ray.io/)."
   ]
  },
  {
   "cell_type": "code",
   "execution_count": 1,
   "metadata": {},
   "outputs": [],
   "source": [
    "\n",
    "!pip install \"awswrangler[distributed]==3.0.0a2\""
   ]
  },
  {
   "cell_type": "markdown",
   "metadata": {},
   "source": [
    "## Configure and Build Ray Cluster in AWS.\n",
    "\n",
    "#### Build Prerequisite Infrastructure\n",
    "\n",
    "Build a security group and IAM instance profile for the Ray Cluster to use.\n",
    "\n",
    "[<img src=\"https://s3.amazonaws.com/cloudformation-examples/cloudformation-launch-stack.png\">](https://console.aws.amazon.com/cloudformation/home#/stacks/new?stackName=RayPrerequisiteInfra&templateURL=https://aws-data-wrangler-public-artifacts.s3.amazonaws.com/cloudformation/ray-prerequisite-infra.json)\n",
    "\n",
    "#### Configure Ray Cluster Configuration\n",
    "Start with a cluster configuration file (YAML)."
   ]
  },
  {
   "cell_type": "code",
   "execution_count": null,
   "metadata": {},
   "outputs": [],
   "source": [
    "!touch config.yml"
   ]
  },
  {
   "cell_type": "markdown",
   "metadata": {},
   "source": [
    "Replace all values to match your desired region, account number and name of resources deployed by the above CloudFormation Stack.\n",
    "\n",
    "[Click here](https://console.aws.amazon.com/ec2/home?region=us-east-1#Images:visibility=public-images;search=:ray-amzn-wheels_latest_amzn_ray-1.9.2-cp38;v=3;$case=tags:false%5C,client:false;$regex=tags:false%5C,client:false) to find the Ray AMI for your desired region. The example configuration below uses the AMI for `us-east-1`"
   ]
  },
  {
   "cell_type": "code",
   "execution_count": null,
   "metadata": {},
   "outputs": [],
   "source": [
    "cluster_name: pandas-sdk-dist-testing\n",
    "\n",
    "initial_workers: 2\n",
    "min_workers: 2\n",
    "max_workers: 2\n",
    "\n",
    "provider:\n",
    "    type: aws\n",
    "    region: us-east-1 # Change AWS region as necessary\n",
    "    availability_zone: us-east-1a,us-east-1b,us-east-1c # Change as necessary\n",
    "    security_group:\n",
    "        GroupName: ray-cluster\n",
    "    cache_stopped_nodes: False\n",
    "\n",
    "available_node_types:\n",
    "  ray.head.default:\n",
    "    node_config:\n",
    "      InstanceType: m4.xlarge\n",
    "      IamInstanceProfile:\n",
    "        # Replace with your account id and profile name if you did not use the default value\n",
    "        Arn: arn:aws:iam::{ACCOUNT ID}:instance-profile/ray-cluster\n",
    "      # Replace ImageId if using a different region / python version\n",
    "      ImageId: ami-0ea510fcb67686b48\n",
    "\n",
    "  ray.worker.default:\n",
    "      min_workers: 2\n",
    "      max_workers: 2\n",
    "      node_config:\n",
    "        InstanceType: m4.xlarge\n",
    "        IamInstanceProfile:\n",
    "          # Replace with your account id and profile name if you did not use the default value\n",
    "          Arn: arn:aws:iam::{ACCOUNT ID}:instance-profile/ray-cluster\n",
    "        # Replace ImageId if using a different region / python version\n",
    "        ImageId: ami-0ea510fcb67686b48\n",
    "\n",
    "\n",
    "setup_commands:\n",
    "- pip install \"awswrangler[distributed]==3.0.0a2\"\n",
    "- export AWS_DEFAULT_REGION=us-east-1"
   ]
  },
  {
   "cell_type": "markdown",
   "metadata": {},
   "source": [
    "Provision Ray Cluster"
   ]
  },
  {
   "cell_type": "code",
   "execution_count": null,
   "metadata": {},
   "outputs": [],
   "source": [
    "!ray up -y config.yml"
   ]
  },
  {
   "cell_type": "markdown",
   "metadata": {},
   "source": [
    "Set `WR_ADDRESS` to Ray Cluster Address"
   ]
  },
  {
   "cell_type": "code",
   "execution_count": null,
   "metadata": {},
   "outputs": [],
   "source": [
    "!export WR_ADDRESS=\"ray://$(ray get-head-ip config.yml | tail -1):10001\""
   ]
  },
  {
   "cell_type": "markdown",
   "metadata": {},
   "source": [
    "You can now execute actions. The SDK will detect the required dependencies for its `distributed` mode and parallelize the methods that support it."
   ]
  },
  {
   "cell_type": "code",
   "execution_count": null,
   "metadata": {},
   "outputs": [],
   "source": [
    "import awswrangler as wr\n",
    "print(f\"Distributed Mode: {wr.config.distributed}\")"
   ]
  },
  {
   "cell_type": "markdown",
   "metadata": {},
   "source": [
    "Get Bucket Name"
   ]
  },
  {
   "cell_type": "code",
   "execution_count": null,
   "metadata": {},
   "outputs": [],
   "source": [
    "import getpass \n",
    "\n",
    "bucket = getpass.getpass()"
   ]
  },
  {
   "cell_type": "markdown",
   "metadata": {},
   "source": [
    "Read & write some data"
   ]
  },
  {
   "cell_type": "code",
   "execution_count": null,
   "metadata": {},
   "outputs": [],
   "source": [
    "df = wr.s3.read_parquet(path=\"s3://ursa-labs-taxi-data/2010/02/data.parquet\", parallelism=1000)\n",
    "path=\"s3://{bucket}/parquet/taxi-data-02-2010.parquet\"\n",
    "wr.s3.to_parquet(df, path=path)"
   ]
  },
  {
   "cell_type": "markdown",
   "metadata": {},
   "source": [
    "##### [More Info on Ray Clusters on AWS](https://docs.ray.io/en/master/cluster/vms/user-guides/launching-clusters/aws.html)"
   ]
  }
 ],
 "metadata": {
  "kernelspec": {
   "display_name": "conda_python3",
   "language": "python",
   "name": "conda_python3"
  },
  "language_info": {
   "codemirror_mode": {
    "name": "ipython",
    "version": 3
   },
   "file_extension": ".py",
   "mimetype": "text/x-python",
   "name": "python",
   "nbconvert_exporter": "python",
   "pygments_lexer": "ipython3",
   "version": "3.6.10"
  }
 },
 "nbformat": 4,
 "nbformat_minor": 4
}
