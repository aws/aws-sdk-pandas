{
 "cells": [
  {
   "cell_type": "markdown",
   "id": "b0ee9a28",
   "metadata": {
    "pycharm": {
     "name": "#%% md\n"
    }
   },
   "source": [
    "[![AWS SDK for pandas](_static/logo.png \"AWS SDK for pandas\")](https://github.com/aws/aws-sdk-pandas)"
   ]
  },
  {
   "cell_type": "markdown",
   "id": "3a2a7b51",
   "metadata": {
    "pycharm": {
     "name": "#%% md\n"
    }
   },
   "source": [
    "# 34 - Glue Data Quality"
   ]
  },
  {
   "cell_type": "markdown",
   "id": "42724a76",
   "metadata": {
    "pycharm": {
     "name": "#%% md\n"
    }
   },
   "source": [
    " AWS Glue Data Quality helps you evaluate and monitor the quality of your data."
   ]
  },
  {
   "cell_type": "markdown",
   "source": [
    "## Create test data\n",
    "\n",
    "First, let's start by creating test data, writing it to S3, and registering it in Glue Data Catalog."
   ],
   "metadata": {
    "collapsed": false,
    "pycharm": {
     "name": "#%% md\n"
    }
   }
  },
  {
   "cell_type": "code",
   "execution_count": null,
   "outputs": [],
   "source": [
    "import awswrangler as wr\n",
    "import pandas as pd\n",
    "\n",
    "glue_database = \"aws_sdk_pandas\"\n",
    "glue_table = \"glue_table\"\n",
    "path = \"s3://...\"\n",
    "\n",
    "df = pd.DataFrame({\"c0\": [0, 1, 2], \"c1\": [0, 1, 2], \"c2\": [0, 0, 1]})\n",
    "wr.s3.to_parquet(df, path, dataset=True, database=glue_database, table=glue_table)"
   ],
   "metadata": {
    "collapsed": false,
    "pycharm": {
     "name": "#%%\n",
     "is_executing": true
    }
   }
  },
  {
   "cell_type": "markdown",
   "source": [
    "## Start with recommended data quality rules"
   ],
   "metadata": {
    "collapsed": false,
    "pycharm": {
     "name": "#%% md\n"
    }
   }
  },
  {
   "cell_type": "markdown",
   "source": [
    "AWS Glue Data Quality computes statistics for your data, and is able to recommend a set of data quality rules so you can get started\n",
    "quickly.\n",
    "\n",
    "Running Glue Data Quality recommendation and evaluation tasks requires an IAM role. This role must have permission to access resources that various AWS Glue Data Quality processes require to run on your behalf. To find out more, check [Authorization](https://docs.aws.amazon.com/glue/latest/dg/data-quality-authorization.html)."
   ],
   "metadata": {
    "collapsed": false,
    "pycharm": {
     "name": "#%% md\n"
    }
   }
  },
  {
   "cell_type": "code",
   "execution_count": 3,
   "outputs": [
    {
     "data": {
      "text/plain": "      rule_type parameter       expression\n0      RowCount      None  between 1 and 6\n1    IsComplete        c0             None\n2    Uniqueness        c0           > 0.95\n3  ColumnValues        c0             <= 2\n4    IsComplete        c1             None\n5    Uniqueness        c1           > 0.95\n6  ColumnValues        c1             <= 2\n7    IsComplete        c2             None\n8  ColumnValues        c2             <= 1",
      "text/html": "<div>\n<style scoped>\n    .dataframe tbody tr th:only-of-type {\n        vertical-align: middle;\n    }\n\n    .dataframe tbody tr th {\n        vertical-align: top;\n    }\n\n    .dataframe thead th {\n        text-align: right;\n    }\n</style>\n<table border=\"1\" class=\"dataframe\">\n  <thead>\n    <tr style=\"text-align: right;\">\n      <th></th>\n      <th>rule_type</th>\n      <th>parameter</th>\n      <th>expression</th>\n    </tr>\n  </thead>\n  <tbody>\n    <tr>\n      <th>0</th>\n      <td>RowCount</td>\n      <td>None</td>\n      <td>between 1 and 6</td>\n    </tr>\n    <tr>\n      <th>1</th>\n      <td>IsComplete</td>\n      <td>c0</td>\n      <td>None</td>\n    </tr>\n    <tr>\n      <th>2</th>\n      <td>Uniqueness</td>\n      <td>c0</td>\n      <td>&gt; 0.95</td>\n    </tr>\n    <tr>\n      <th>3</th>\n      <td>ColumnValues</td>\n      <td>c0</td>\n      <td>&lt;= 2</td>\n    </tr>\n    <tr>\n      <th>4</th>\n      <td>IsComplete</td>\n      <td>c1</td>\n      <td>None</td>\n    </tr>\n    <tr>\n      <th>5</th>\n      <td>Uniqueness</td>\n      <td>c1</td>\n      <td>&gt; 0.95</td>\n    </tr>\n    <tr>\n      <th>6</th>\n      <td>ColumnValues</td>\n      <td>c1</td>\n      <td>&lt;= 2</td>\n    </tr>\n    <tr>\n      <th>7</th>\n      <td>IsComplete</td>\n      <td>c2</td>\n      <td>None</td>\n    </tr>\n    <tr>\n      <th>8</th>\n      <td>ColumnValues</td>\n      <td>c2</td>\n      <td>&lt;= 1</td>\n    </tr>\n  </tbody>\n</table>\n</div>"
     },
     "execution_count": 3,
     "metadata": {},
     "output_type": "execute_result"
    }
   ],
   "source": [
    "ruleset_name = \"ruleset\"\n",
    "iam_role_arn = \"arn:aws:iam::...\"\n",
    "\n",
    "wr.data_quality.create_recommendation_ruleset(\n",
    "    name=ruleset_name,\n",
    "    database=glue_database,\n",
    "    table=glue_table,\n",
    "    iam_role_arn=iam_role_arn,\n",
    ")"
   ],
   "metadata": {
    "collapsed": false,
    "pycharm": {
     "name": "#%%\n"
    }
   }
  },
  {
   "cell_type": "markdown",
   "source": [
    "## Run a data quality task"
   ],
   "metadata": {
    "collapsed": false,
    "pycharm": {
     "name": "#%% md\n"
    }
   }
  },
  {
   "cell_type": "code",
   "execution_count": 4,
   "outputs": [
    {
     "data": {
      "text/plain": "     Name               Description Result  \\\n0  Rule_1  RowCount between 1 and 6   PASS   \n1  Rule_2           IsComplete \"c0\"   PASS   \n2  Rule_3    Uniqueness \"c0\" > 0.95   PASS   \n3  Rule_4    ColumnValues \"c0\" <= 2   PASS   \n4  Rule_5           IsComplete \"c1\"   PASS   \n5  Rule_6    Uniqueness \"c1\" > 0.95   PASS   \n6  Rule_7    ColumnValues \"c1\" <= 2   PASS   \n7  Rule_8           IsComplete \"c2\"   PASS   \n8  Rule_9    ColumnValues \"c2\" <= 1   PASS   \n\n                                            ResultId  \n0  dqresult-a0113154a72e9abf6b6a9b4ee52c2d6618b0485f  \n1  dqresult-a0113154a72e9abf6b6a9b4ee52c2d6618b0485f  \n2  dqresult-a0113154a72e9abf6b6a9b4ee52c2d6618b0485f  \n3  dqresult-a0113154a72e9abf6b6a9b4ee52c2d6618b0485f  \n4  dqresult-a0113154a72e9abf6b6a9b4ee52c2d6618b0485f  \n5  dqresult-a0113154a72e9abf6b6a9b4ee52c2d6618b0485f  \n6  dqresult-a0113154a72e9abf6b6a9b4ee52c2d6618b0485f  \n7  dqresult-a0113154a72e9abf6b6a9b4ee52c2d6618b0485f  \n8  dqresult-a0113154a72e9abf6b6a9b4ee52c2d6618b0485f  ",
      "text/html": "<div>\n<style scoped>\n    .dataframe tbody tr th:only-of-type {\n        vertical-align: middle;\n    }\n\n    .dataframe tbody tr th {\n        vertical-align: top;\n    }\n\n    .dataframe thead th {\n        text-align: right;\n    }\n</style>\n<table border=\"1\" class=\"dataframe\">\n  <thead>\n    <tr style=\"text-align: right;\">\n      <th></th>\n      <th>Name</th>\n      <th>Description</th>\n      <th>Result</th>\n      <th>ResultId</th>\n    </tr>\n  </thead>\n  <tbody>\n    <tr>\n      <th>0</th>\n      <td>Rule_1</td>\n      <td>RowCount between 1 and 6</td>\n      <td>PASS</td>\n      <td>dqresult-a0113154a72e9abf6b6a9b4ee52c2d6618b0485f</td>\n    </tr>\n    <tr>\n      <th>1</th>\n      <td>Rule_2</td>\n      <td>IsComplete \"c0\"</td>\n      <td>PASS</td>\n      <td>dqresult-a0113154a72e9abf6b6a9b4ee52c2d6618b0485f</td>\n    </tr>\n    <tr>\n      <th>2</th>\n      <td>Rule_3</td>\n      <td>Uniqueness \"c0\" &gt; 0.95</td>\n      <td>PASS</td>\n      <td>dqresult-a0113154a72e9abf6b6a9b4ee52c2d6618b0485f</td>\n    </tr>\n    <tr>\n      <th>3</th>\n      <td>Rule_4</td>\n      <td>ColumnValues \"c0\" &lt;= 2</td>\n      <td>PASS</td>\n      <td>dqresult-a0113154a72e9abf6b6a9b4ee52c2d6618b0485f</td>\n    </tr>\n    <tr>\n      <th>4</th>\n      <td>Rule_5</td>\n      <td>IsComplete \"c1\"</td>\n      <td>PASS</td>\n      <td>dqresult-a0113154a72e9abf6b6a9b4ee52c2d6618b0485f</td>\n    </tr>\n    <tr>\n      <th>5</th>\n      <td>Rule_6</td>\n      <td>Uniqueness \"c1\" &gt; 0.95</td>\n      <td>PASS</td>\n      <td>dqresult-a0113154a72e9abf6b6a9b4ee52c2d6618b0485f</td>\n    </tr>\n    <tr>\n      <th>6</th>\n      <td>Rule_7</td>\n      <td>ColumnValues \"c1\" &lt;= 2</td>\n      <td>PASS</td>\n      <td>dqresult-a0113154a72e9abf6b6a9b4ee52c2d6618b0485f</td>\n    </tr>\n    <tr>\n      <th>7</th>\n      <td>Rule_8</td>\n      <td>IsComplete \"c2\"</td>\n      <td>PASS</td>\n      <td>dqresult-a0113154a72e9abf6b6a9b4ee52c2d6618b0485f</td>\n    </tr>\n    <tr>\n      <th>8</th>\n      <td>Rule_9</td>\n      <td>ColumnValues \"c2\" &lt;= 1</td>\n      <td>PASS</td>\n      <td>dqresult-a0113154a72e9abf6b6a9b4ee52c2d6618b0485f</td>\n    </tr>\n  </tbody>\n</table>\n</div>"
     },
     "execution_count": 4,
     "metadata": {},
     "output_type": "execute_result"
    }
   ],
   "source": [
    "wr.data_quality.evaluate_ruleset(\n",
    "    name=ruleset_name,\n",
    "    iam_role_arn=iam_role_arn,\n",
    ")"
   ],
   "metadata": {
    "collapsed": false,
    "pycharm": {
     "name": "#%%\n"
    }
   }
  },
  {
   "cell_type": "markdown",
   "source": [
    "## Create ruleset from Data Quality Definition Language definition"
   ],
   "metadata": {
    "collapsed": false,
    "pycharm": {
     "name": "#%% md\n"
    }
   }
  },
  {
   "cell_type": "markdown",
   "source": [
    "Data Quality Definition Language (DQDL) is a domain specific language that you use to define rules for AWS Glue Data Quality. For full syntax reference, see [DQDL](https://docs.aws.amazon.com/glue/latest/dg/dqdl.html)."
   ],
   "metadata": {
    "collapsed": false,
    "pycharm": {
     "name": "#%% md\n"
    }
   }
  },
  {
   "cell_type": "code",
   "execution_count": 6,
   "outputs": [],
   "source": [
    "dqdl_rules = (\n",
    "    \"Rules = [\"\n",
    "    \"RowCount between 1 and 6,\"\n",
    "    'IsComplete \"c0\",'\n",
    "    'Uniqueness \"c0\" > 0.95,'\n",
    "    'ColumnValues \"c0\" <= 2,'\n",
    "    'IsComplete \"c1\",'\n",
    "    'Uniqueness \"c1\" > 0.95,'\n",
    "    'ColumnValues \"c1\" <= 2,'\n",
    "    'IsComplete \"c2\",'\n",
    "    'ColumnValues \"c2\" <= 1'\n",
    "    \"]\"\n",
    ")\n",
    "\n",
    "wr.data_quality.create_ruleset(\n",
    "    name=\"ruleset2\",\n",
    "    database=glue_database,\n",
    "    table=glue_table,\n",
    "    dqdl_rules=dqdl_rules,\n",
    ")"
   ],
   "metadata": {
    "collapsed": false,
    "pycharm": {
     "name": "#%%\n"
    }
   }
  },
  {
   "cell_type": "markdown",
   "source": [
    "## Create ruleset from data frame"
   ],
   "metadata": {
    "collapsed": false,
    "pycharm": {
     "name": "#%% md\n"
    }
   }
  },
  {
   "cell_type": "markdown",
   "source": [
    "AWS SDK for pandas also allows you to create ruleset from a pandas data frame."
   ],
   "metadata": {
    "collapsed": false,
    "pycharm": {
     "name": "#%% md\n"
    }
   }
  },
  {
   "cell_type": "code",
   "execution_count": 8,
   "outputs": [],
   "source": [
    "df_rules = pd.DataFrame({\n",
    "    \"rule_type\": [\"RowCount\", \"IsComplete\", \"Uniqueness\"],\n",
    "    \"parameter\": [None, \"c0\", \"c0\"],\n",
    "    \"expression\": [\"between 1 and 6\", None, \"> 0.95\"],\n",
    "})\n",
    "\n",
    "wr.data_quality.create_ruleset(\n",
    "    name=\"ruleset3\",\n",
    "    database=glue_database,\n",
    "    table=glue_table,\n",
    "    df_rules=df_rules,\n",
    ")"
   ],
   "metadata": {
    "collapsed": false,
    "pycharm": {
     "name": "#%%\n"
    }
   }
  }
 ],
 "metadata": {
  "kernelspec": {
   "display_name": "Python 3.9.14",
   "language": "python",
   "name": "python3"
  },
  "language_info": {
   "codemirror_mode": {
    "name": "ipython",
    "version": 3
   },
   "file_extension": ".py",
   "mimetype": "text/x-python",
   "name": "python",
   "nbconvert_exporter": "python",
   "pygments_lexer": "ipython3",
   "version": "3.9.14"
  }
 },
 "nbformat": 4,
 "nbformat_minor": 5
}