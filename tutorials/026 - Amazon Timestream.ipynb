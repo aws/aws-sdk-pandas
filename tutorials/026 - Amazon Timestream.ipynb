{
 "cells": [
  {
   "source": [
    "[![AWS Data Wrangler](_static/logo.png \"AWS Data Wrangler\")](https://github.com/awslabs/aws-data-wrangler)\n",
    "\n",
    "# 26 - Amazon Timestream"
   ],
   "cell_type": "markdown",
   "metadata": {}
  },
  {
   "source": [
    "## Creating resources"
   ],
   "cell_type": "markdown",
   "metadata": {}
  },
  {
   "cell_type": "code",
   "execution_count": 10,
   "metadata": {},
   "outputs": [],
   "source": [
    "import awswrangler as wr\n",
    "import pandas as pd\n",
    "from datetime import datetime\n",
    "\n",
    "wr.timestream.create_database(\"sampleDB\")\n",
    "wr.timestream.create_table(\"sampleDB\", \"sampleTable\", memory_retention_hours=1, magnetic_retention_days=1);"
   ]
  },
  {
   "cell_type": "markdown",
   "metadata": {},
   "source": [
    "## Write"
   ]
  },
  {
   "cell_type": "code",
   "execution_count": 11,
   "metadata": {},
   "outputs": [
    {
     "output_type": "stream",
     "name": "stdout",
     "text": [
      "Number of rejected records: 0\n"
     ]
    }
   ],
   "source": [
    "df = pd.DataFrame(\n",
    "    {\n",
    "        \"time\": [datetime.now(), datetime.now(), datetime.now()],\n",
    "        \"dim0\": [\"foo\", \"boo\", \"bar\"],\n",
    "        \"dim1\": [1, 2, 3],\n",
    "        \"measure\": [1.0, 1.1, 1.2],\n",
    "    }\n",
    ")\n",
    "\n",
    "rejected_records = wr.timestream.write(\n",
    "    df=df,\n",
    "    database=\"sampleDB\",\n",
    "    table=\"sampleTable\",\n",
    "    time_col=\"time\",\n",
    "    measure_col=\"measure\",\n",
    "    dimensions_cols=[\"dim0\", \"dim1\"],\n",
    ")\n",
    "\n",
    "print(f\"Number of rejected records: {len(rejected_records)}\")"
   ]
  },
  {
   "cell_type": "markdown",
   "metadata": {},
   "source": [
    "## Query"
   ]
  },
  {
   "cell_type": "code",
   "execution_count": 12,
   "metadata": {},
   "outputs": [
    {
     "output_type": "execute_result",
     "data": {
      "text/plain": [
       "                     time  measure_value::double dim0 dim1\n",
       "0 2020-12-08 19:15:32.468                    1.0  foo    1\n",
       "1 2020-12-08 19:15:32.468                    1.2  bar    3\n",
       "2 2020-12-08 19:15:32.468                    1.1  boo    2"
      ],
      "text/html": "<div>\n<style scoped>\n    .dataframe tbody tr th:only-of-type {\n        vertical-align: middle;\n    }\n\n    .dataframe tbody tr th {\n        vertical-align: top;\n    }\n\n    .dataframe thead th {\n        text-align: right;\n    }\n</style>\n<table border=\"1\" class=\"dataframe\">\n  <thead>\n    <tr style=\"text-align: right;\">\n      <th></th>\n      <th>time</th>\n      <th>measure_value::double</th>\n      <th>dim0</th>\n      <th>dim1</th>\n    </tr>\n  </thead>\n  <tbody>\n    <tr>\n      <th>0</th>\n      <td>2020-12-08 19:15:32.468</td>\n      <td>1.0</td>\n      <td>foo</td>\n      <td>1</td>\n    </tr>\n    <tr>\n      <th>1</th>\n      <td>2020-12-08 19:15:32.468</td>\n      <td>1.2</td>\n      <td>bar</td>\n      <td>3</td>\n    </tr>\n    <tr>\n      <th>2</th>\n      <td>2020-12-08 19:15:32.468</td>\n      <td>1.1</td>\n      <td>boo</td>\n      <td>2</td>\n    </tr>\n  </tbody>\n</table>\n</div>"
     },
     "metadata": {},
     "execution_count": 12
    }
   ],
   "source": [
    "wr.timestream.query(\n",
    "    'SELECT time, measure_value::double, dim0, dim1 FROM \"sampleDB\".\"sampleTable\" ORDER BY time DESC LIMIT 3'\n",
    ")"
   ]
  },
  {
   "source": [
    "## Deleting resources"
   ],
   "cell_type": "markdown",
   "metadata": {}
  },
  {
   "cell_type": "code",
   "execution_count": 13,
   "metadata": {},
   "outputs": [],
   "source": [
    "wr.timestream.delete_table(\"sampleDB\", \"sampleTable\")\n",
    "wr.timestream.delete_database(\"sampleDB\")"
   ]
  }
 ],
 "metadata": {
  "kernelspec": {
   "name": "python3",
   "display_name": "Python 3.6.12 64-bit ('.venv': venv)",
   "metadata": {
    "interpreter": {
     "hash": "d615d0bdd35e5a4938de94437a0942aa54f5a0cb2fbaf63c7f5fc7fc7d82b041"
    }
   }
  },
  "language_info": {
   "codemirror_mode": {
    "name": "ipython",
    "version": 3
   },
   "file_extension": ".py",
   "mimetype": "text/x-python",
   "name": "python",
   "nbconvert_exporter": "python",
   "pygments_lexer": "ipython3",
   "version": "3.6.12-final"
  },
  "pycharm": {
   "stem_cell": {
    "cell_type": "raw",
    "metadata": {
     "collapsed": false
    },
    "source": []
   }
  }
 },
 "nbformat": 4,
 "nbformat_minor": 4
}