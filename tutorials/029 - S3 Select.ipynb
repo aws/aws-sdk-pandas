{
 "metadata": {
  "language_info": {
   "codemirror_mode": {
    "name": "ipython",
    "version": 3
   },
   "file_extension": ".py",
   "mimetype": "text/x-python",
   "name": "python",
   "nbconvert_exporter": "python",
   "pygments_lexer": "ipython3",
   "version": "3.7.7"
  },
  "orig_nbformat": 2,
  "kernelspec": {
   "name": "pythonjvsc74a57bd0e4beff3b9c91951bd870e0e6d1ba9dfdd106cfe45c6f3d0f8d31550063fd3386",
   "display_name": "Python 3.7.7 64-bit ('.env': venv)"
  },
  "metadata": {
   "interpreter": {
    "hash": "e4beff3b9c91951bd870e0e6d1ba9dfdd106cfe45c6f3d0f8d31550063fd3386"
   }
  }
 },
 "nbformat": 4,
 "nbformat_minor": 2,
 "cells": [
  {
   "source": [
    "[![AWS Data Wrangler](_static/logo.png \"AWS Data Wrangler\")](https://github.com/awslabs/aws-data-wrangler)"
   ],
   "cell_type": "markdown",
   "metadata": {}
  },
  {
   "source": [
    "# 29 - S3 Select"
   ],
   "cell_type": "markdown",
   "metadata": {}
  },
  {
   "source": [
    "AWS Data Wrangler supports [Amazon S3 Select](https://aws.amazon.com/blogs/aws/s3-glacier-select/), enabling applications to use SQL statements in order to query and filter the contents of a single S3 object. It works on objects stored in CSV, JSON or Apache Parquet, including compressed and large files of several TBs.\n",
    "\n",
    "With S3 Select, the query workload is delegated to Amazon S3, leading to lower latency and cost, and to higher performance (up to 400% improvement). This is in comparison with other Wrangler operations such as `read_parquet` where the S3 object is downloaded and filtered on the client-side.\n",
    "\n",
    "This feature has a number of limitations however, and should be used for specific scenarios only:\n",
    "* It operates on a single S3 object\n",
    "* The maximum length of a record in the input or result is 1 MB\n",
    "* The maximum uncompressed row group size is 256 MB (Parquet only)\n",
    "* It can only emit nested data in JSON format\n",
    "* Certain SQL operations are not supported (e.g. ORDER BY)\n"
   ],
   "cell_type": "markdown",
   "metadata": {}
  },
  {
   "source": [
    "## Read full CSV file"
   ],
   "cell_type": "markdown",
   "metadata": {}
  },
  {
   "cell_type": "code",
   "execution_count": 1,
   "metadata": {},
   "outputs": [
    {
     "output_type": "execute_result",
     "data": {
      "text/plain": [
       "        dispatching_base_num      pickup_datetime     dropoff_datetime  \\\n",
       "0                     B00009  2019-09-01 00:35:00  2019-09-01 00:59:00   \n",
       "1                     B00009  2019-09-01 00:48:00  2019-09-01 01:09:00   \n",
       "2                     B00014  2019-09-01 00:16:18  2019-09-02 00:35:37   \n",
       "3                     B00014  2019-09-01 00:55:03  2019-09-01 01:09:35   \n",
       "4                     B00014  2019-09-01 00:13:08  2019-09-02 01:12:31   \n",
       "...                      ...                  ...                  ...   \n",
       "1039484               B03126  2019-09-30 23:05:11  2019-09-30 23:20:45   \n",
       "1039485               B03157  2019-09-30 23:17:21  2019-09-30 23:20:36   \n",
       "1039486               B03157  2019-09-30 23:32:34  2019-09-30 23:39:01   \n",
       "1039487               B03157  2019-09-30 23:53:23  2019-09-30 23:58:02   \n",
       "1039488               B03157  2019-09-30 23:29:16  2019-09-30 23:37:57   \n",
       "\n",
       "        PULocationID DOLocationID SR_Flag  \n",
       "0                264          264          \n",
       "1                264          264          \n",
       "2                264          264          \n",
       "3                264          264          \n",
       "4                264          264          \n",
       "...              ...          ...     ...  \n",
       "1039484          264          265          \n",
       "1039485          264          265          \n",
       "1039486          264          265          \n",
       "1039487          264          265          \n",
       "1039488          264          265          \n",
       "\n",
       "[1039489 rows x 6 columns]"
      ],
      "text/html": "<div>\n<style scoped>\n    .dataframe tbody tr th:only-of-type {\n        vertical-align: middle;\n    }\n\n    .dataframe tbody tr th {\n        vertical-align: top;\n    }\n\n    .dataframe thead th {\n        text-align: right;\n    }\n</style>\n<table border=\"1\" class=\"dataframe\">\n  <thead>\n    <tr style=\"text-align: right;\">\n      <th></th>\n      <th>dispatching_base_num</th>\n      <th>pickup_datetime</th>\n      <th>dropoff_datetime</th>\n      <th>PULocationID</th>\n      <th>DOLocationID</th>\n      <th>SR_Flag</th>\n    </tr>\n  </thead>\n  <tbody>\n    <tr>\n      <th>0</th>\n      <td>B00009</td>\n      <td>2019-09-01 00:35:00</td>\n      <td>2019-09-01 00:59:00</td>\n      <td>264</td>\n      <td>264</td>\n      <td></td>\n    </tr>\n    <tr>\n      <th>1</th>\n      <td>B00009</td>\n      <td>2019-09-01 00:48:00</td>\n      <td>2019-09-01 01:09:00</td>\n      <td>264</td>\n      <td>264</td>\n      <td></td>\n    </tr>\n    <tr>\n      <th>2</th>\n      <td>B00014</td>\n      <td>2019-09-01 00:16:18</td>\n      <td>2019-09-02 00:35:37</td>\n      <td>264</td>\n      <td>264</td>\n      <td></td>\n    </tr>\n    <tr>\n      <th>3</th>\n      <td>B00014</td>\n      <td>2019-09-01 00:55:03</td>\n      <td>2019-09-01 01:09:35</td>\n      <td>264</td>\n      <td>264</td>\n      <td></td>\n    </tr>\n    <tr>\n      <th>4</th>\n      <td>B00014</td>\n      <td>2019-09-01 00:13:08</td>\n      <td>2019-09-02 01:12:31</td>\n      <td>264</td>\n      <td>264</td>\n      <td></td>\n    </tr>\n    <tr>\n      <th>...</th>\n      <td>...</td>\n      <td>...</td>\n      <td>...</td>\n      <td>...</td>\n      <td>...</td>\n      <td>...</td>\n    </tr>\n    <tr>\n      <th>1039484</th>\n      <td>B03126</td>\n      <td>2019-09-30 23:05:11</td>\n      <td>2019-09-30 23:20:45</td>\n      <td>264</td>\n      <td>265</td>\n      <td></td>\n    </tr>\n    <tr>\n      <th>1039485</th>\n      <td>B03157</td>\n      <td>2019-09-30 23:17:21</td>\n      <td>2019-09-30 23:20:36</td>\n      <td>264</td>\n      <td>265</td>\n      <td></td>\n    </tr>\n    <tr>\n      <th>1039486</th>\n      <td>B03157</td>\n      <td>2019-09-30 23:32:34</td>\n      <td>2019-09-30 23:39:01</td>\n      <td>264</td>\n      <td>265</td>\n      <td></td>\n    </tr>\n    <tr>\n      <th>1039487</th>\n      <td>B03157</td>\n      <td>2019-09-30 23:53:23</td>\n      <td>2019-09-30 23:58:02</td>\n      <td>264</td>\n      <td>265</td>\n      <td></td>\n    </tr>\n    <tr>\n      <th>1039488</th>\n      <td>B03157</td>\n      <td>2019-09-30 23:29:16</td>\n      <td>2019-09-30 23:37:57</td>\n      <td>264</td>\n      <td>265</td>\n      <td></td>\n    </tr>\n  </tbody>\n</table>\n<p>1039489 rows × 6 columns</p>\n</div>"
     },
     "metadata": {},
     "execution_count": 1
    }
   ],
   "source": [
    "import awswrangler as wr\n",
    "\n",
    "wr.s3.select_query(\n",
    "    sql=\"SELECT * FROM s3object\",\n",
    "    path=\"s3://nyc-tlc/trip data/fhv_tripdata_2019-09.csv\", # 58 MB\n",
    "    input_serialization=\"CSV\",\n",
    "    input_serialization_params={\n",
    "            \"FileHeaderInfo\": \"Use\",\n",
    "            \"RecordDelimiter\": \"\\r\\n\",\n",
    "    },\n",
    "    use_threads=True,\n",
    ")"
   ]
  },
  {
   "source": [
    "## Filter JSON file"
   ],
   "cell_type": "markdown",
   "metadata": {}
  },
  {
   "cell_type": "code",
   "execution_count": 2,
   "metadata": {},
   "outputs": [
    {
     "output_type": "execute_result",
     "data": {
      "text/plain": [
       "  family_name                             contact_details               name  \\\n",
       "0       Biden  [{'type': 'twitter', 'value': 'joebiden'}]  Joseph Biden, Jr.   \n",
       "\n",
       "                                               links gender  \\\n",
       "0  [{'note': 'Wikipedia (ace)', 'url': 'https://a...   male   \n",
       "\n",
       "                                               image  \\\n",
       "0  https://theunitedstates.io/images/congress/ori...   \n",
       "\n",
       "                                         identifiers  \\\n",
       "0  [{'scheme': 'bioguide', 'identifier': 'B000444...   \n",
       "\n",
       "                                         other_names      sort_name  \\\n",
       "0  [{'note': 'alternate', 'name': 'Joe Biden'}, {...  Biden, Joseph   \n",
       "\n",
       "                                              images given_name  birth_date  \\\n",
       "0  [{'url': 'https://theunitedstates.io/images/co...     Joseph  1942-11-20   \n",
       "\n",
       "                                     id  \n",
       "0  64239edf-8e06-4d2d-acc0-33d96bc79774  "
      ],
      "text/html": "<div>\n<style scoped>\n    .dataframe tbody tr th:only-of-type {\n        vertical-align: middle;\n    }\n\n    .dataframe tbody tr th {\n        vertical-align: top;\n    }\n\n    .dataframe thead th {\n        text-align: right;\n    }\n</style>\n<table border=\"1\" class=\"dataframe\">\n  <thead>\n    <tr style=\"text-align: right;\">\n      <th></th>\n      <th>family_name</th>\n      <th>contact_details</th>\n      <th>name</th>\n      <th>links</th>\n      <th>gender</th>\n      <th>image</th>\n      <th>identifiers</th>\n      <th>other_names</th>\n      <th>sort_name</th>\n      <th>images</th>\n      <th>given_name</th>\n      <th>birth_date</th>\n      <th>id</th>\n    </tr>\n  </thead>\n  <tbody>\n    <tr>\n      <th>0</th>\n      <td>Biden</td>\n      <td>[{'type': 'twitter', 'value': 'joebiden'}]</td>\n      <td>Joseph Biden, Jr.</td>\n      <td>[{'note': 'Wikipedia (ace)', 'url': 'https://a...</td>\n      <td>male</td>\n      <td>https://theunitedstates.io/images/congress/ori...</td>\n      <td>[{'scheme': 'bioguide', 'identifier': 'B000444...</td>\n      <td>[{'note': 'alternate', 'name': 'Joe Biden'}, {...</td>\n      <td>Biden, Joseph</td>\n      <td>[{'url': 'https://theunitedstates.io/images/co...</td>\n      <td>Joseph</td>\n      <td>1942-11-20</td>\n      <td>64239edf-8e06-4d2d-acc0-33d96bc79774</td>\n    </tr>\n  </tbody>\n</table>\n</div>"
     },
     "metadata": {},
     "execution_count": 2
    }
   ],
   "source": [
    "wr.s3.select_query(\n",
    "    sql=\"SELECT * FROM s3object[*] s where s.\\\"family_name\\\" = \\'Biden\\'\",\n",
    "    path=\"s3://awsglue-datasets/examples/us-legislators/all/persons.json\",\n",
    "    input_serialization=\"JSON\",\n",
    "    input_serialization_params={\n",
    "            \"Type\": \"Document\",\n",
    "    },\n",
    ")"
   ]
  },
  {
   "source": [
    "## Read Snappy compressed Parquet"
   ],
   "cell_type": "markdown",
   "metadata": {}
  },
  {
   "cell_type": "code",
   "execution_count": 3,
   "metadata": {},
   "outputs": [
    {
     "output_type": "execute_result",
     "data": {
      "text/plain": [
       "      marketplace customer_id       review_id  product_id product_parent  \\\n",
       "0              US    52670295   RGPOFKORD8RTU  B0002CZPPG      867256265   \n",
       "1              US    29964102  R2U8X8V5KPB4J3  B00H5BMF00      373287760   \n",
       "2              US    48976105  R2HG3WPSEY2KSF  B0002CZPPG      867256265   \n",
       "3              US    25173351  R15XV3LXUMLTXL  B00PG40CO4      137115061   \n",
       "4              US    12516181  R3G6G7H8TX4H0T  B0002CZPPG      867256265   \n",
       "...           ...         ...             ...         ...            ...   \n",
       "14916          US    25463944  R1C4GQYJ4K0ART  B004RCNH8Y      644630034   \n",
       "14917          US    25794590  R2SREV1IHP36Z2  B00BWDGY0E      786087936   \n",
       "14918          US    35335599  R2DU71MZKYW3EI  B00BWDH2O6      553410082   \n",
       "14919          US    11757927  R3OTC9Z3Z9JBX5  B00A4EK69C      964882494   \n",
       "14920          US    50258327  R3VUQ9WMB7JW7U  B00H5BMH44       81025991   \n",
       "\n",
       "                                           product_title  star_rating  \\\n",
       "0                        Apple iTunes Prepaid Card ($15)            5   \n",
       "1      Amazon eGift Card - Froggy Birthday (Animated)...            5   \n",
       "2                        Apple iTunes Prepaid Card ($15)            1   \n",
       "3         Amazon eGift Card - Happy Birthday (Doughnuts)            5   \n",
       "4                        Apple iTunes Prepaid Card ($15)            5   \n",
       "...                                                  ...          ...   \n",
       "14916        Amazon Gift Card - Print - Congratulations!            5   \n",
       "14917  Amazon eGift Card - Sunshine and Flowers Birth...            5   \n",
       "14918  Amazon eGift Card - Happy Birthday Singing Tel...            5   \n",
       "14919  Amazon Gift Card - Print - Happy Birthday (Cup...            5   \n",
       "14920  Amazon eGift Card - Hoops and Yoyo Cake Face (...            4   \n",
       "\n",
       "       helpful_votes  total_votes vine verified_purchase  \\\n",
       "0                105          107    N                 N   \n",
       "1                  0            0    N                 Y   \n",
       "2                 34           54    N                 Y   \n",
       "3                  0            0    N                 Y   \n",
       "4                  6            6    N                 N   \n",
       "...              ...          ...  ...               ...   \n",
       "14916              0            0    N                 Y   \n",
       "14917              0            0    N                 Y   \n",
       "14918              0            0    N                 Y   \n",
       "14919              0            0    N                 Y   \n",
       "14920              0            0    N                 Y   \n",
       "\n",
       "                                         review_headline  \\\n",
       "0                                    Excellent Gift Idea   \n",
       "1                                             Five Stars   \n",
       "2                                 Don't Buy From Amazon!   \n",
       "3                                          Birthday Gift   \n",
       "4                                              Love 'em.   \n",
       "...                                                  ...   \n",
       "14916                                         Five Stars   \n",
       "14917                                         Five Stars   \n",
       "14918  I sent this to my nephew for his 2nd birthday ...   \n",
       "14919                                        As expected   \n",
       "14920                                         Four Stars   \n",
       "\n",
       "                                             review_body review_date  year  \n",
       "0      I wonder if the other reviewer actually read t...  2005-02-08  2005  \n",
       "1                   convenience is the name of the game.  2015-05-03  2015  \n",
       "2      Do NOT buy this item from Amazon - they charge...  2005-07-22  2005  \n",
       "3      This gift card was handled with accuracy in de...  2015-05-03  2015  \n",
       "4      Gotta love these iTunes Prepaid Card thingys. ...  2005-10-15  2005  \n",
       "...                                                  ...         ...   ...  \n",
       "14916                   Very easy to purchase and print.  2014-11-16  2014  \n",
       "14917                                 Cute and personal.  2014-11-16  2014  \n",
       "14918  I sent this to my nephew for his 2nd birthday....  2014-11-16  2014  \n",
       "14919                                 Printable giftcard  2014-11-16  2014  \n",
       "14920                            Convenient way to give.  2014-11-16  2014  \n",
       "\n",
       "[14921 rows x 15 columns]"
      ],
      "text/html": "<div>\n<style scoped>\n    .dataframe tbody tr th:only-of-type {\n        vertical-align: middle;\n    }\n\n    .dataframe tbody tr th {\n        vertical-align: top;\n    }\n\n    .dataframe thead th {\n        text-align: right;\n    }\n</style>\n<table border=\"1\" class=\"dataframe\">\n  <thead>\n    <tr style=\"text-align: right;\">\n      <th></th>\n      <th>marketplace</th>\n      <th>customer_id</th>\n      <th>review_id</th>\n      <th>product_id</th>\n      <th>product_parent</th>\n      <th>product_title</th>\n      <th>star_rating</th>\n      <th>helpful_votes</th>\n      <th>total_votes</th>\n      <th>vine</th>\n      <th>verified_purchase</th>\n      <th>review_headline</th>\n      <th>review_body</th>\n      <th>review_date</th>\n      <th>year</th>\n    </tr>\n  </thead>\n  <tbody>\n    <tr>\n      <th>0</th>\n      <td>US</td>\n      <td>52670295</td>\n      <td>RGPOFKORD8RTU</td>\n      <td>B0002CZPPG</td>\n      <td>867256265</td>\n      <td>Apple iTunes Prepaid Card ($15)</td>\n      <td>5</td>\n      <td>105</td>\n      <td>107</td>\n      <td>N</td>\n      <td>N</td>\n      <td>Excellent Gift Idea</td>\n      <td>I wonder if the other reviewer actually read t...</td>\n      <td>2005-02-08</td>\n      <td>2005</td>\n    </tr>\n    <tr>\n      <th>1</th>\n      <td>US</td>\n      <td>29964102</td>\n      <td>R2U8X8V5KPB4J3</td>\n      <td>B00H5BMF00</td>\n      <td>373287760</td>\n      <td>Amazon eGift Card - Froggy Birthday (Animated)...</td>\n      <td>5</td>\n      <td>0</td>\n      <td>0</td>\n      <td>N</td>\n      <td>Y</td>\n      <td>Five Stars</td>\n      <td>convenience is the name of the game.</td>\n      <td>2015-05-03</td>\n      <td>2015</td>\n    </tr>\n    <tr>\n      <th>2</th>\n      <td>US</td>\n      <td>48976105</td>\n      <td>R2HG3WPSEY2KSF</td>\n      <td>B0002CZPPG</td>\n      <td>867256265</td>\n      <td>Apple iTunes Prepaid Card ($15)</td>\n      <td>1</td>\n      <td>34</td>\n      <td>54</td>\n      <td>N</td>\n      <td>Y</td>\n      <td>Don't Buy From Amazon!</td>\n      <td>Do NOT buy this item from Amazon - they charge...</td>\n      <td>2005-07-22</td>\n      <td>2005</td>\n    </tr>\n    <tr>\n      <th>3</th>\n      <td>US</td>\n      <td>25173351</td>\n      <td>R15XV3LXUMLTXL</td>\n      <td>B00PG40CO4</td>\n      <td>137115061</td>\n      <td>Amazon eGift Card - Happy Birthday (Doughnuts)</td>\n      <td>5</td>\n      <td>0</td>\n      <td>0</td>\n      <td>N</td>\n      <td>Y</td>\n      <td>Birthday Gift</td>\n      <td>This gift card was handled with accuracy in de...</td>\n      <td>2015-05-03</td>\n      <td>2015</td>\n    </tr>\n    <tr>\n      <th>4</th>\n      <td>US</td>\n      <td>12516181</td>\n      <td>R3G6G7H8TX4H0T</td>\n      <td>B0002CZPPG</td>\n      <td>867256265</td>\n      <td>Apple iTunes Prepaid Card ($15)</td>\n      <td>5</td>\n      <td>6</td>\n      <td>6</td>\n      <td>N</td>\n      <td>N</td>\n      <td>Love 'em.</td>\n      <td>Gotta love these iTunes Prepaid Card thingys. ...</td>\n      <td>2005-10-15</td>\n      <td>2005</td>\n    </tr>\n    <tr>\n      <th>...</th>\n      <td>...</td>\n      <td>...</td>\n      <td>...</td>\n      <td>...</td>\n      <td>...</td>\n      <td>...</td>\n      <td>...</td>\n      <td>...</td>\n      <td>...</td>\n      <td>...</td>\n      <td>...</td>\n      <td>...</td>\n      <td>...</td>\n      <td>...</td>\n      <td>...</td>\n    </tr>\n    <tr>\n      <th>14916</th>\n      <td>US</td>\n      <td>25463944</td>\n      <td>R1C4GQYJ4K0ART</td>\n      <td>B004RCNH8Y</td>\n      <td>644630034</td>\n      <td>Amazon Gift Card - Print - Congratulations!</td>\n      <td>5</td>\n      <td>0</td>\n      <td>0</td>\n      <td>N</td>\n      <td>Y</td>\n      <td>Five Stars</td>\n      <td>Very easy to purchase and print.</td>\n      <td>2014-11-16</td>\n      <td>2014</td>\n    </tr>\n    <tr>\n      <th>14917</th>\n      <td>US</td>\n      <td>25794590</td>\n      <td>R2SREV1IHP36Z2</td>\n      <td>B00BWDGY0E</td>\n      <td>786087936</td>\n      <td>Amazon eGift Card - Sunshine and Flowers Birth...</td>\n      <td>5</td>\n      <td>0</td>\n      <td>0</td>\n      <td>N</td>\n      <td>Y</td>\n      <td>Five Stars</td>\n      <td>Cute and personal.</td>\n      <td>2014-11-16</td>\n      <td>2014</td>\n    </tr>\n    <tr>\n      <th>14918</th>\n      <td>US</td>\n      <td>35335599</td>\n      <td>R2DU71MZKYW3EI</td>\n      <td>B00BWDH2O6</td>\n      <td>553410082</td>\n      <td>Amazon eGift Card - Happy Birthday Singing Tel...</td>\n      <td>5</td>\n      <td>0</td>\n      <td>0</td>\n      <td>N</td>\n      <td>Y</td>\n      <td>I sent this to my nephew for his 2nd birthday ...</td>\n      <td>I sent this to my nephew for his 2nd birthday....</td>\n      <td>2014-11-16</td>\n      <td>2014</td>\n    </tr>\n    <tr>\n      <th>14919</th>\n      <td>US</td>\n      <td>11757927</td>\n      <td>R3OTC9Z3Z9JBX5</td>\n      <td>B00A4EK69C</td>\n      <td>964882494</td>\n      <td>Amazon Gift Card - Print - Happy Birthday (Cup...</td>\n      <td>5</td>\n      <td>0</td>\n      <td>0</td>\n      <td>N</td>\n      <td>Y</td>\n      <td>As expected</td>\n      <td>Printable giftcard</td>\n      <td>2014-11-16</td>\n      <td>2014</td>\n    </tr>\n    <tr>\n      <th>14920</th>\n      <td>US</td>\n      <td>50258327</td>\n      <td>R3VUQ9WMB7JW7U</td>\n      <td>B00H5BMH44</td>\n      <td>81025991</td>\n      <td>Amazon eGift Card - Hoops and Yoyo Cake Face (...</td>\n      <td>4</td>\n      <td>0</td>\n      <td>0</td>\n      <td>N</td>\n      <td>Y</td>\n      <td>Four Stars</td>\n      <td>Convenient way to give.</td>\n      <td>2014-11-16</td>\n      <td>2014</td>\n    </tr>\n  </tbody>\n</table>\n<p>14921 rows × 15 columns</p>\n</div>"
     },
     "metadata": {},
     "execution_count": 3
    }
   ],
   "source": [
    "wr.s3.select_query(\n",
    "        sql='SELECT * FROM s3object',\n",
    "        path=\"s3://amazon-reviews-pds/parquet/product_category=Gift_Card/part-00000-495c48e6-96d6-4650-aa65-3c36a3516ddd.c000.snappy.parquet\",\n",
    "        input_serialization=\"Parquet\",\n",
    "        input_serialization_params={},\n",
    "        use_threads=True,\n",
    ")"
   ]
  }
 ]
}