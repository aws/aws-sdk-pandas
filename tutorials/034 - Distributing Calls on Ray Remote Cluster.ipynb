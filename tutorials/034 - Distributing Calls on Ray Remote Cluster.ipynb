{
 "cells": [
  {
   "cell_type": "markdown",
   "metadata": {
    "pycharm": {
     "name": "#%% md\n"
    }
   },
   "source": [
    "[![AWS SDK for pandas](_static/logo.png \"AWS SDK for pandas\")](https://github.com/aws/aws-sdk-pandas)\n",
    "\n",
    "# 34 - Distributing Calls on Ray Remote Cluster\n",
    "\n",
    "AWS SDK for pandas supports distribution of specific calls on a cluster of EC2s using [ray](https://docs.ray.io/)."
   ]
  },
  {
   "cell_type": "code",
   "execution_count": 1,
   "metadata": {
    "pycharm": {
     "name": "#%%\n"
    }
   },
   "outputs": [],
   "source": [
    "\n",
    "!pip install \"awswrangler[distributed]==3.0.0b1\""
   ]
  },
  {
   "cell_type": "markdown",
   "metadata": {
    "pycharm": {
     "name": "#%% md\n"
    }
   },
   "source": [
    "## Configure and Build Ray Cluster on AWS\n",
    "\n",
    "#### Build Prerequisite Infrastructure\n",
    "\n",
    "Build a security group and IAM instance profile for the Ray Cluster to use.\n",
    "\n",
    "[<img src=\"https://s3.amazonaws.com/cloudformation-examples/cloudformation-launch-stack.png\">](https://console.aws.amazon.com/cloudformation/home#/stacks/new?stackName=RayPrerequisiteInfra&templateURL=https://aws-data-wrangler-public-artifacts.s3.amazonaws.com/cloudformation/ray-prerequisite-infra.json)\n",
    "\n",
    "#### Configure Ray Cluster Configuration\n",
    "Start with a cluster configuration file (YAML)."
   ]
  },
  {
   "cell_type": "code",
   "execution_count": null,
   "metadata": {
    "pycharm": {
     "name": "#%%\n"
    }
   },
   "outputs": [],
   "source": [
    "!touch config.yml"
   ]
  },
  {
   "cell_type": "markdown",
   "metadata": {
    "pycharm": {
     "name": "#%% md\n"
    }
   },
   "source": [
    "Replace all values to match your desired region, account number and name of resources deployed by the above CloudFormation Stack.\n",
    "\n",
    "[Click here](https://console.aws.amazon.com/ec2/home?region=us-east-1#Images:visibility=public-images;search=:ray-amzn-wheels_latest_amzn_ray-1.9.2-cp38;v=3;$case=tags:false%5C,client:false;$regex=tags:false%5C,client:false) to find the Ray AMI for your desired region. The example configuration below uses the AMI for `us-east-1`"
   ]
  },
  {
   "cell_type": "code",
   "execution_count": null,
   "metadata": {
    "pycharm": {
     "name": "#%%\n"
    }
   },
   "outputs": [],
   "source": [
    "cluster_name: pandas-sdk-cluster\n",
    "\n",
    "min_workers: 2\n",
    "max_workers: 2\n",
    "\n",
    "provider:\n",
    "    type: aws\n",
    "    region: us-east-1 # Change AWS region as necessary\n",
    "    availability_zone: us-east-1a,us-east-1b,us-east-1c # Change as necessary\n",
    "    security_group:\n",
    "        GroupName: ray-cluster\n",
    "    cache_stopped_nodes: False\n",
    "\n",
    "available_node_types:\n",
    "  ray.head.default:\n",
    "    node_config:\n",
    "      InstanceType: m4.xlarge\n",
    "      IamInstanceProfile:\n",
    "        # Replace with your account id and profile name if you did not use the default value\n",
    "        Arn: arn:aws:iam::{ACCOUNT ID}:instance-profile/ray-cluster\n",
    "      # Replace ImageId if using a different region / python version\n",
    "      ImageId: ami-0ea510fcb67686b48\n",
    "\n",
    "  ray.worker.default:\n",
    "      min_workers: 2\n",
    "      max_workers: 2\n",
    "      node_config:\n",
    "        InstanceType: m4.xlarge\n",
    "        IamInstanceProfile:\n",
    "          # Replace with your account id and profile name if you did not use the default value\n",
    "          Arn: arn:aws:iam::{ACCOUNT ID}:instance-profile/ray-cluster\n",
    "        # Replace ImageId if using a different region / python version\n",
    "        ImageId: ami-0ea510fcb67686b48\n",
    "\n",
    "\n",
    "setup_commands:\n",
    "- pip install \"awswrangler[distributed]==3.0.0b1\""
   ]
  },
  {
   "cell_type": "markdown",
   "metadata": {
    "pycharm": {
     "name": "#%% md\n"
    }
   },
   "source": [
    "#### Provision Ray Cluster\n",
    "\n",
    "The command below creates a Ray cluster in your account based on the aforementioned config file. It consists of one head node and 2 workers (m4xlarge EC2s)."
   ]
  },
  {
   "cell_type": "code",
   "execution_count": null,
   "metadata": {
    "pycharm": {
     "name": "#%%\n"
    }
   },
   "outputs": [],
   "source": [
    "!ray up -y config.yml"
   ]
  },
  {
   "cell_type": "markdown",
   "metadata": {
    "pycharm": {
     "name": "#%% md\n"
    }
   },
   "source": [
    "Once the cluster is up and running, we set the `WR_ADDRESS` environment variable to the head node Ray Cluster Address"
   ]
  },
  {
   "cell_type": "code",
   "execution_count": null,
   "metadata": {
    "pycharm": {
     "name": "#%%\n"
    }
   },
   "outputs": [],
   "source": [
    "!export WR_ADDRESS=\"ray://$(ray get-head-ip config.yml | tail -1):10001\""
   ]
  },
  {
   "cell_type": "markdown",
   "metadata": {
    "pycharm": {
     "name": "#%% md\n"
    }
   },
   "source": [
    "As a result, `awswrangler` API calls now run on the cluster, not on your local machine. The SDK detects the required dependencies for its `distributed` mode and parallelizes supported methods on the cluster."
   ]
  },
  {
   "cell_type": "code",
   "execution_count": null,
   "metadata": {
    "pycharm": {
     "name": "#%%\n"
    }
   },
   "outputs": [],
   "source": [
    "import awswrangler as wr\n",
    "print(f\"Distributed Mode: {wr.config.distributed}\")"
   ]
  },
  {
   "cell_type": "markdown",
   "metadata": {
    "pycharm": {
     "name": "#%% md\n"
    }
   },
   "source": [
    "Get Bucket Name"
   ]
  },
  {
   "cell_type": "code",
   "execution_count": null,
   "metadata": {
    "pycharm": {
     "name": "#%%\n"
    }
   },
   "outputs": [],
   "source": [
    "import getpass \n",
    "\n",
    "bucket = getpass.getpass()"
   ]
  },
  {
   "cell_type": "markdown",
   "metadata": {
    "pycharm": {
     "name": "#%% md\n"
    }
   },
   "source": [
    "Read & write some data at scale on the cluster"
   ]
  },
  {
   "cell_type": "code",
   "execution_count": null,
   "metadata": {
    "pycharm": {
     "name": "#%%\n"
    }
   },
   "outputs": [],
   "source": [
    "df = wr.s3.read_parquet(path=\"s3://ursa-labs-taxi-data/2010/1*.parquet\")\n",
    "path=\"s3://{bucket}/taxi-data/\"\n",
    "wr.s3.to_parquet(df, path=path)"
   ]
  },
  {
   "cell_type": "markdown",
   "metadata": {
    "pycharm": {
     "name": "#%% md\n"
    }
   },
   "source": [
    "##### [More Info on Ray Clusters on AWS](https://docs.ray.io/en/latest/cluster/vms/getting-started.html#launch-a-cluster-on-a-cloud-provider)"
   ]
  }
 ],
 "metadata": {
  "kernelspec": {
   "display_name": "Python 3.9.13 ('awswrangler-mo8sEp3D-py3.9')",
   "language": "python",
   "name": "python3"
  },
  "language_info": {
   "codemirror_mode": {
    "name": "ipython",
    "version": 3
   },
   "file_extension": ".py",
   "mimetype": "text/x-python",
   "name": "python",
   "nbconvert_exporter": "python",
   "pygments_lexer": "ipython3",
   "version": "3.9.13"
  },
  "vscode": {
   "interpreter": {
    "hash": "abf31c45c41a2718a2f25e3a2e428f2a986d4fe24d411f7f5e3ce0fef626968d"
   }
  }
 },
 "nbformat": 4,
 "nbformat_minor": 4
}