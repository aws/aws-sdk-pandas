{
 "cells": [
  {
   "cell_type": "markdown",
   "metadata": {
    "pycharm": {
     "name": "#%% md\n"
    }
   },
   "source": [
    "[![AWS SDK for pandas](_static/logo.png \"AWS SDK for pandas\")](https://github.com/aws/aws-sdk-pandas)\n",
    "\n",
    "# 34 - Distributing Calls Using Ray\n",
    "\n",
    "AWS SDK for pandas supports distribution of specific calls using [ray](https://docs.ray.io/) and [modin](https://modin.readthedocs.io/en/stable/).\n",
    "\n",
    "When this is enabled, data loading methods return Modin data frames instead of Pandas data frames. Modin provides seamless integration and compatibility with existing Pandas code, with the benefit of distributing operations across your Ray instance. The benefit is being able to operate at a much higher scale."
   ]
  },
  {
   "cell_type": "code",
   "execution_count": 1,
   "metadata": {
    "pycharm": {
     "name": "#%%\n"
    }
   },
   "outputs": [],
   "source": [
    "%pip install \"awswrangler[ray,modin]==3.0.0b3\""
   ]
  },
  {
   "cell_type": "markdown",
   "metadata": {},
   "source": [
    "Importing `awswrangler` when `ray` and `modin` are installed will automatically initialize a local Ray instance."
   ]
  },
  {
   "cell_type": "code",
   "execution_count": 1,
   "metadata": {
    "pycharm": {
     "name": "#%%\n"
    }
   },
   "outputs": [
    {
     "name": "stderr",
     "output_type": "stream",
     "text": [
      "2022-10-11 11:36:39,413\tINFO worker.py:1518 -- Started a local Ray instance.\n"
     ]
    },
    {
     "name": "stdout",
     "output_type": "stream",
     "text": [
      "Execution Engine: EngineEnum.RAY\n",
      "Memory Format: MemoryFormatEnum.MODIN\n"
     ]
    }
   ],
   "source": [
    "import awswrangler as wr\n",
    "print(f\"Execution Engine: {wr.engine.get()}\")\n",
    "print(f\"Memory Format: {wr.memory_format.get()}\")"
   ]
  },
  {
   "cell_type": "markdown",
   "metadata": {},
   "source": [
    "#### Enter your bucket name:"
   ]
  },
  {
   "cell_type": "code",
   "execution_count": 3,
   "metadata": {},
   "outputs": [],
   "source": [
    "bucket = \"<BUCKET_NAME>\""
   ]
  },
  {
   "cell_type": "markdown",
   "metadata": {
    "pycharm": {
     "name": "#%% md\n"
    }
   },
   "source": [
    "#### Read data at scale on the cluster"
   ]
  },
  {
   "cell_type": "code",
   "execution_count": 4,
   "metadata": {
    "pycharm": {
     "name": "#%%\n"
    }
   },
   "outputs": [
    {
     "name": "stderr",
     "output_type": "stream",
     "text": [
      "Read progress: 100%|█████████████████████████████████████████████████████████████████████████████| 10/10 [00:38<00:00,  3.85s/it]\n"
     ]
    },
    {
     "data": {
      "text/html": [
       "<div>\n",
       "<style scoped>\n",
       "    .dataframe tbody tr th:only-of-type {\n",
       "        vertical-align: middle;\n",
       "    }\n",
       "\n",
       "    .dataframe tbody tr th {\n",
       "        vertical-align: top;\n",
       "    }\n",
       "\n",
       "    .dataframe thead th {\n",
       "        text-align: right;\n",
       "    }\n",
       "</style>\n",
       "<table border=\"1\" class=\"dataframe\">\n",
       "  <thead>\n",
       "    <tr style=\"text-align: right;\">\n",
       "      <th></th>\n",
       "      <th>marketplace</th>\n",
       "      <th>customer_id</th>\n",
       "      <th>review_id</th>\n",
       "      <th>product_id</th>\n",
       "      <th>product_parent</th>\n",
       "      <th>product_title</th>\n",
       "      <th>star_rating</th>\n",
       "      <th>helpful_votes</th>\n",
       "      <th>total_votes</th>\n",
       "      <th>vine</th>\n",
       "      <th>verified_purchase</th>\n",
       "      <th>review_headline</th>\n",
       "      <th>review_body</th>\n",
       "      <th>review_date</th>\n",
       "      <th>year</th>\n",
       "    </tr>\n",
       "  </thead>\n",
       "  <tbody>\n",
       "    <tr>\n",
       "      <th>0</th>\n",
       "      <td>US</td>\n",
       "      <td>35680291</td>\n",
       "      <td>R34O1VWWYVAU9A</td>\n",
       "      <td>B000MWFEV6</td>\n",
       "      <td>406798096</td>\n",
       "      <td>Baxton Studio Full Leather Storage Bench Ottom...</td>\n",
       "      <td>5</td>\n",
       "      <td>1</td>\n",
       "      <td>1</td>\n",
       "      <td>N</td>\n",
       "      <td>Y</td>\n",
       "      <td>High quality and roomy</td>\n",
       "      <td>I bought this bench as a storage necessity as ...</td>\n",
       "      <td>2009-05-17</td>\n",
       "      <td>2009</td>\n",
       "    </tr>\n",
       "    <tr>\n",
       "      <th>1</th>\n",
       "      <td>US</td>\n",
       "      <td>21000590</td>\n",
       "      <td>RU1I9NHALXPW5</td>\n",
       "      <td>B004C1RULU</td>\n",
       "      <td>239421036</td>\n",
       "      <td>Alera Fraze Series Leather High-Back Swivel/Ti...</td>\n",
       "      <td>3</td>\n",
       "      <td>8</td>\n",
       "      <td>9</td>\n",
       "      <td>N</td>\n",
       "      <td>Y</td>\n",
       "      <td>Do not judge the chair on the first day alone.</td>\n",
       "      <td>Received this chair really fast because I had ...</td>\n",
       "      <td>2012-06-29</td>\n",
       "      <td>2012</td>\n",
       "    </tr>\n",
       "    <tr>\n",
       "      <th>2</th>\n",
       "      <td>US</td>\n",
       "      <td>12140069</td>\n",
       "      <td>R2O8R9CLCUQTB8</td>\n",
       "      <td>B000GFWQDI</td>\n",
       "      <td>297104356</td>\n",
       "      <td>Matching Cherry Printer Stand with Casters and...</td>\n",
       "      <td>5</td>\n",
       "      <td>4</td>\n",
       "      <td>4</td>\n",
       "      <td>N</td>\n",
       "      <td>Y</td>\n",
       "      <td>Printer stand made into printer / PC stand</td>\n",
       "      <td>I wanted to get my pc's off the floor and off ...</td>\n",
       "      <td>2009-05-17</td>\n",
       "      <td>2009</td>\n",
       "    </tr>\n",
       "    <tr>\n",
       "      <th>3</th>\n",
       "      <td>US</td>\n",
       "      <td>23755701</td>\n",
       "      <td>R12FOIKUUXPHBZ</td>\n",
       "      <td>B0055DOI50</td>\n",
       "      <td>39731200</td>\n",
       "      <td>Marquette Bed</td>\n",
       "      <td>5</td>\n",
       "      <td>6</td>\n",
       "      <td>6</td>\n",
       "      <td>N</td>\n",
       "      <td>Y</td>\n",
       "      <td>Excellent Value!!</td>\n",
       "      <td>Great quality for the price. This bed is easy ...</td>\n",
       "      <td>2012-06-29</td>\n",
       "      <td>2012</td>\n",
       "    </tr>\n",
       "    <tr>\n",
       "      <th>4</th>\n",
       "      <td>US</td>\n",
       "      <td>50735969</td>\n",
       "      <td>RK0XUO7P40TK9</td>\n",
       "      <td>B0026RH3X2</td>\n",
       "      <td>751769063</td>\n",
       "      <td>Cape Craftsman Shutter 2-Door Cabinet</td>\n",
       "      <td>3</td>\n",
       "      <td>12</td>\n",
       "      <td>12</td>\n",
       "      <td>N</td>\n",
       "      <td>N</td>\n",
       "      <td>Nice, but not best quality</td>\n",
       "      <td>I love the design of this cabinet! It's a very...</td>\n",
       "      <td>2009-05-17</td>\n",
       "      <td>2009</td>\n",
       "    </tr>\n",
       "  </tbody>\n",
       "</table>\n",
       "</div>"
      ],
      "text/plain": [
       "  marketplace customer_id       review_id  product_id product_parent  \\\n",
       "0          US    35680291  R34O1VWWYVAU9A  B000MWFEV6      406798096   \n",
       "1          US    21000590   RU1I9NHALXPW5  B004C1RULU      239421036   \n",
       "2          US    12140069  R2O8R9CLCUQTB8  B000GFWQDI      297104356   \n",
       "3          US    23755701  R12FOIKUUXPHBZ  B0055DOI50       39731200   \n",
       "4          US    50735969   RK0XUO7P40TK9  B0026RH3X2      751769063   \n",
       "\n",
       "                                       product_title  star_rating  \\\n",
       "0  Baxton Studio Full Leather Storage Bench Ottom...            5   \n",
       "1  Alera Fraze Series Leather High-Back Swivel/Ti...            3   \n",
       "2  Matching Cherry Printer Stand with Casters and...            5   \n",
       "3                                      Marquette Bed            5   \n",
       "4              Cape Craftsman Shutter 2-Door Cabinet            3   \n",
       "\n",
       "   helpful_votes  total_votes vine verified_purchase  \\\n",
       "0              1            1    N                 Y   \n",
       "1              8            9    N                 Y   \n",
       "2              4            4    N                 Y   \n",
       "3              6            6    N                 Y   \n",
       "4             12           12    N                 N   \n",
       "\n",
       "                                  review_headline  \\\n",
       "0                          High quality and roomy   \n",
       "1  Do not judge the chair on the first day alone.   \n",
       "2      Printer stand made into printer / PC stand   \n",
       "3                               Excellent Value!!   \n",
       "4                      Nice, but not best quality   \n",
       "\n",
       "                                         review_body review_date  year  \n",
       "0  I bought this bench as a storage necessity as ...  2009-05-17  2009  \n",
       "1  Received this chair really fast because I had ...  2012-06-29  2012  \n",
       "2  I wanted to get my pc's off the floor and off ...  2009-05-17  2009  \n",
       "3  Great quality for the price. This bed is easy ...  2012-06-29  2012  \n",
       "4  I love the design of this cabinet! It's a very...  2009-05-17  2009  "
      ]
     },
     "execution_count": 4,
     "metadata": {},
     "output_type": "execute_result"
    }
   ],
   "source": [
    "frame = wr.s3.read_parquet(path=\"s3://amazon-reviews-pds/parquet/product_category=Furniture/\")\n",
    "frame.head(5)"
   ]
  },
  {
   "cell_type": "markdown",
   "metadata": {},
   "source": [
    "The data type will be a Modin DataFrame"
   ]
  },
  {
   "cell_type": "code",
   "execution_count": 5,
   "metadata": {},
   "outputs": [
    {
     "data": {
      "text/plain": [
       "modin.pandas.dataframe.DataFrame"
      ]
     },
     "execution_count": 5,
     "metadata": {},
     "output_type": "execute_result"
    }
   ],
   "source": [
    "type(frame)"
   ]
  },
  {
   "cell_type": "markdown",
   "metadata": {},
   "source": [
    "However, this type is interoperable with standard Pandas calls:"
   ]
  },
  {
   "cell_type": "code",
   "execution_count": 6,
   "metadata": {},
   "outputs": [],
   "source": [
    "filtered_frame = frame[frame.helpful_votes > 10]"
   ]
  },
  {
   "cell_type": "markdown",
   "metadata": {},
   "source": [
    "When writing data to S3, it's recommended to set provide a directory and set `dataset=False`. This will ensure that data gets written by each worker, without it being shuffled across workers. "
   ]
  },
  {
   "cell_type": "code",
   "execution_count": 9,
   "metadata": {},
   "outputs": [
    {
     "name": "stderr",
     "output_type": "stream",
     "text": [
      "Write Progress: 100%|████████████████████████████████████████████████████████████████████████████| 10/10 [00:07<00:00,  1.34it/s]"
     ]
    },
    {
     "name": "stdout",
     "output_type": "stream",
     "text": [
      "Data has been written to 10 files\n"
     ]
    },
    {
     "name": "stderr",
     "output_type": "stream",
     "text": [
      "\n"
     ]
    }
   ],
   "source": [
    "result = wr.s3.to_parquet(\n",
    "    filtered_frame,\n",
    "    path=f\"s3://{bucket}/amazon-reviews/\",\n",
    "    dataset=True,\n",
    "    dtype={\"review_date\": \"timestamp\"},\n",
    ")\n",
    "print(f\"Data has been written to {len(result['paths'])} files\")"
   ]
  }
 ],
 "metadata": {
  "kernelspec": {
   "display_name": "Python 3.8.5 ('awswrangler-mo8sEp3D-py3.8')",
   "language": "python",
   "name": "python3"
  },
  "language_info": {
   "codemirror_mode": {
    "name": "ipython",
    "version": 3
   },
   "file_extension": ".py",
   "mimetype": "text/x-python",
   "name": "python",
   "nbconvert_exporter": "python",
   "pygments_lexer": "ipython3",
   "version": "3.8.5"
  },
  "vscode": {
   "interpreter": {
    "hash": "350d68fa765a50d15f89103ff6102f3b96ae3e7bdc6e5e7a4956e4c1d21b94bd"
   }
  }
 },
 "nbformat": 4,
 "nbformat_minor": 4
}
