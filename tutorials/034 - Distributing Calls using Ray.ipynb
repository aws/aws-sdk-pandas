{
 "cells": [
  {
   "cell_type": "markdown",
   "metadata": {
    "pycharm": {
     "name": "#%% md\n"
    }
   },
   "source": [
    "[![AWS SDK for pandas](_static/logo.png \"AWS SDK for pandas\")](https://github.com/aws/aws-sdk-pandas)\n",
    "\n",
    "# 34 - Distributing Calls Using Ray\n",
    "\n",
    "AWS SDK for pandas supports distribution of specific calls using [ray](https://docs.ray.io/) and [modin](https://modin.readthedocs.io/en/stable/).\n",
    "\n",
    "When enabled, data loading methods return modin dataframes instead of pandas dataframes. Modin provides seamless integration and compatibility with existing pandas code, with the benefit of distributing operations across your Ray instance and operating at a much larger scale."
   ]
  },
  {
   "cell_type": "code",
   "execution_count": 1,
   "metadata": {
    "pycharm": {
     "name": "#%%\n"
    }
   },
   "outputs": [],
   "source": [
    "!pip install \"awswrangler[modin,ray,redshift]\""
   ]
  },
  {
   "cell_type": "markdown",
   "metadata": {},
   "source": [
    "Importing `awswrangler` when `ray` and `modin` are installed will automatically initialize a local Ray instance."
   ]
  },
  {
   "cell_type": "code",
   "execution_count": 2,
   "metadata": {
    "pycharm": {
     "name": "#%%\n"
    }
   },
   "outputs": [
    {
     "name": "stderr",
     "output_type": "stream",
     "text": [
      "2022-10-24 14:59:36,287\tINFO worker.py:1518 -- Started a local Ray instance.\n"
     ]
    },
    {
     "name": "stdout",
     "output_type": "stream",
     "text": [
      "Execution Engine: EngineEnum.RAY\n",
      "Memory Format: MemoryFormatEnum.MODIN\n"
     ]
    }
   ],
   "source": [
    "import awswrangler as wr\n",
    "import modin.pandas as pd\n",
    "\n",
    "print(f\"Execution Engine: {wr.engine.get()}\")\n",
    "print(f\"Memory Format: {wr.memory_format.get()}\")"
   ]
  },
  {
   "cell_type": "markdown",
   "metadata": {
    "pycharm": {
     "name": "#%% md\n"
    }
   },
   "source": [
    "#### Read data at scale\n",
    "\n",
    "Data is read using all cores on a single machine or multiple nodes on a cluster"
   ]
  },
  {
   "cell_type": "code",
   "execution_count": 3,
   "metadata": {
    "pycharm": {
     "name": "#%%\n"
    }
   },
   "outputs": [
    {
     "name": "stderr",
     "output_type": "stream",
     "text": [
      "Read progress: 100%|██████████| 10/10 [01:10<00:00,  7.03s/it]\n",
      "UserWarning: When using a pre-initialized Ray cluster, please ensure that the runtime env sets environment variable __MODIN_AUTOIMPORT_PANDAS__ to 1\n"
     ]
    },
    {
     "data": {
      "text/html": [
       "<div>\n",
       "<style scoped>\n",
       "    .dataframe tbody tr th:only-of-type {\n",
       "        vertical-align: middle;\n",
       "    }\n",
       "\n",
       "    .dataframe tbody tr th {\n",
       "        vertical-align: top;\n",
       "    }\n",
       "\n",
       "    .dataframe thead th {\n",
       "        text-align: right;\n",
       "    }\n",
       "</style>\n",
       "<table border=\"1\" class=\"dataframe\">\n",
       "  <thead>\n",
       "    <tr style=\"text-align: right;\">\n",
       "      <th></th>\n",
       "      <th>marketplace</th>\n",
       "      <th>customer_id</th>\n",
       "      <th>review_id</th>\n",
       "      <th>product_id</th>\n",
       "      <th>product_parent</th>\n",
       "      <th>product_title</th>\n",
       "      <th>star_rating</th>\n",
       "      <th>helpful_votes</th>\n",
       "      <th>total_votes</th>\n",
       "      <th>vine</th>\n",
       "      <th>verified_purchase</th>\n",
       "      <th>review_headline</th>\n",
       "      <th>review_body</th>\n",
       "      <th>review_date</th>\n",
       "      <th>year</th>\n",
       "    </tr>\n",
       "  </thead>\n",
       "  <tbody>\n",
       "    <tr>\n",
       "      <th>0</th>\n",
       "      <td>US</td>\n",
       "      <td>35680291</td>\n",
       "      <td>R34O1VWWYVAU9A</td>\n",
       "      <td>B000MWFEV6</td>\n",
       "      <td>406798096</td>\n",
       "      <td>Baxton Studio Full Leather Storage Bench Ottom...</td>\n",
       "      <td>5</td>\n",
       "      <td>1</td>\n",
       "      <td>1</td>\n",
       "      <td>N</td>\n",
       "      <td>Y</td>\n",
       "      <td>High quality and roomy</td>\n",
       "      <td>I bought this bench as a storage necessity as ...</td>\n",
       "      <td>2009-05-17</td>\n",
       "      <td>2009</td>\n",
       "    </tr>\n",
       "    <tr>\n",
       "      <th>1</th>\n",
       "      <td>US</td>\n",
       "      <td>21000590</td>\n",
       "      <td>RU1I9NHALXPW5</td>\n",
       "      <td>B004C1RULU</td>\n",
       "      <td>239421036</td>\n",
       "      <td>Alera Fraze Series Leather High-Back Swivel/Ti...</td>\n",
       "      <td>3</td>\n",
       "      <td>8</td>\n",
       "      <td>9</td>\n",
       "      <td>N</td>\n",
       "      <td>Y</td>\n",
       "      <td>Do not judge the chair on the first day alone.</td>\n",
       "      <td>Received this chair really fast because I had ...</td>\n",
       "      <td>2012-06-29</td>\n",
       "      <td>2012</td>\n",
       "    </tr>\n",
       "    <tr>\n",
       "      <th>2</th>\n",
       "      <td>US</td>\n",
       "      <td>12140069</td>\n",
       "      <td>R2O8R9CLCUQTB8</td>\n",
       "      <td>B000GFWQDI</td>\n",
       "      <td>297104356</td>\n",
       "      <td>Matching Cherry Printer Stand with Casters and...</td>\n",
       "      <td>5</td>\n",
       "      <td>4</td>\n",
       "      <td>4</td>\n",
       "      <td>N</td>\n",
       "      <td>Y</td>\n",
       "      <td>Printer stand made into printer / PC stand</td>\n",
       "      <td>I wanted to get my pc's off the floor and off ...</td>\n",
       "      <td>2009-05-17</td>\n",
       "      <td>2009</td>\n",
       "    </tr>\n",
       "    <tr>\n",
       "      <th>3</th>\n",
       "      <td>US</td>\n",
       "      <td>23755701</td>\n",
       "      <td>R12FOIKUUXPHBZ</td>\n",
       "      <td>B0055DOI50</td>\n",
       "      <td>39731200</td>\n",
       "      <td>Marquette Bed</td>\n",
       "      <td>5</td>\n",
       "      <td>6</td>\n",
       "      <td>6</td>\n",
       "      <td>N</td>\n",
       "      <td>Y</td>\n",
       "      <td>Excellent Value!!</td>\n",
       "      <td>Great quality for the price. This bed is easy ...</td>\n",
       "      <td>2012-06-29</td>\n",
       "      <td>2012</td>\n",
       "    </tr>\n",
       "    <tr>\n",
       "      <th>4</th>\n",
       "      <td>US</td>\n",
       "      <td>50735969</td>\n",
       "      <td>RK0XUO7P40TK9</td>\n",
       "      <td>B0026RH3X2</td>\n",
       "      <td>751769063</td>\n",
       "      <td>Cape Craftsman Shutter 2-Door Cabinet</td>\n",
       "      <td>3</td>\n",
       "      <td>12</td>\n",
       "      <td>12</td>\n",
       "      <td>N</td>\n",
       "      <td>N</td>\n",
       "      <td>Nice, but not best quality</td>\n",
       "      <td>I love the design of this cabinet! It's a very...</td>\n",
       "      <td>2009-05-17</td>\n",
       "      <td>2009</td>\n",
       "    </tr>\n",
       "  </tbody>\n",
       "</table>\n",
       "</div>"
      ],
      "text/plain": [
       "  marketplace customer_id       review_id  product_id product_parent  \\\n",
       "0          US    35680291  R34O1VWWYVAU9A  B000MWFEV6      406798096   \n",
       "1          US    21000590   RU1I9NHALXPW5  B004C1RULU      239421036   \n",
       "2          US    12140069  R2O8R9CLCUQTB8  B000GFWQDI      297104356   \n",
       "3          US    23755701  R12FOIKUUXPHBZ  B0055DOI50       39731200   \n",
       "4          US    50735969   RK0XUO7P40TK9  B0026RH3X2      751769063   \n",
       "\n",
       "                                       product_title  star_rating  \\\n",
       "0  Baxton Studio Full Leather Storage Bench Ottom...            5   \n",
       "1  Alera Fraze Series Leather High-Back Swivel/Ti...            3   \n",
       "2  Matching Cherry Printer Stand with Casters and...            5   \n",
       "3                                      Marquette Bed            5   \n",
       "4              Cape Craftsman Shutter 2-Door Cabinet            3   \n",
       "\n",
       "   helpful_votes  total_votes vine verified_purchase  \\\n",
       "0              1            1    N                 Y   \n",
       "1              8            9    N                 Y   \n",
       "2              4            4    N                 Y   \n",
       "3              6            6    N                 Y   \n",
       "4             12           12    N                 N   \n",
       "\n",
       "                                  review_headline  \\\n",
       "0                          High quality and roomy   \n",
       "1  Do not judge the chair on the first day alone.   \n",
       "2      Printer stand made into printer / PC stand   \n",
       "3                               Excellent Value!!   \n",
       "4                      Nice, but not best quality   \n",
       "\n",
       "                                         review_body review_date  year  \n",
       "0  I bought this bench as a storage necessity as ...  2009-05-17  2009  \n",
       "1  Received this chair really fast because I had ...  2012-06-29  2012  \n",
       "2  I wanted to get my pc's off the floor and off ...  2009-05-17  2009  \n",
       "3  Great quality for the price. This bed is easy ...  2012-06-29  2012  \n",
       "4  I love the design of this cabinet! It's a very...  2009-05-17  2009  "
      ]
     },
     "execution_count": 4,
     "metadata": {},
     "output_type": "execute_result"
    }
   ],
   "source": [
    "df = wr.s3.read_parquet(path=\"s3://amazon-reviews-pds/parquet/product_category=Furniture/\")\n",
    "df.head(5)"
   ]
  },
  {
   "cell_type": "markdown",
   "metadata": {},
   "source": [
    "The data type is a modin DataFrame"
   ]
  },
  {
   "cell_type": "code",
   "execution_count": 4,
   "metadata": {},
   "outputs": [
    {
     "data": {
      "text/plain": [
       "modin.pandas.dataframe.DataFrame"
      ]
     },
     "execution_count": 6,
     "metadata": {},
     "output_type": "execute_result"
    }
   ],
   "source": [
    "type(df)"
   ]
  },
  {
   "cell_type": "markdown",
   "metadata": {},
   "source": [
    "However, this type is interoperable with standard pandas calls:"
   ]
  },
  {
   "cell_type": "code",
   "execution_count": 5,
   "metadata": {},
   "outputs": [],
   "source": [
    "filtered_df = df[df.helpful_votes > 10]\n",
    "excluded_columns = [\"product_title\", \"review_headline\", \"review_body\"]\n",
    "filtered_df = filtered_df.loc[:, ~filtered_df.columns.isin(excluded_columns)]"
   ]
  },
  {
   "cell_type": "markdown",
   "metadata": {},
   "source": [
    "Enter your bucket name:"
   ]
  },
  {
   "cell_type": "code",
   "execution_count": 6,
   "metadata": {},
   "outputs": [],
   "source": [
    "bucket = \"BUCKET_NAME\""
   ]
  },
  {
   "cell_type": "markdown",
   "metadata": {},
   "source": [
    "#### Write data at scale\n",
    "\n",
    "The write operation is parallelized, leading to significant speed-ups"
   ]
  },
  {
   "cell_type": "code",
   "execution_count": 7,
   "metadata": {},
   "outputs": [
    {
     "name": "stderr",
     "output_type": "stream",
     "text": [
      "Write Progress: 100%|██████████| 10/10 [00:21<00:00,  2.14s/it]"
     ]
    },
    {
     "name": "stdout",
     "output_type": "stream",
     "text": [
      "Data has been written to 10 files\n"
     ]
    }
   ],
   "source": [
    "result = wr.s3.to_parquet(\n",
    "    filtered_df,\n",
    "    path=f\"s3://{bucket}/amazon-reviews/\",\n",
    "    dataset=True,\n",
    "    dtype={\"review_date\": \"timestamp\"},\n",
    ")\n",
    "print(f\"Data has been written to {len(result['paths'])} files\")"
   ]
  },
  {
   "cell_type": "markdown",
   "metadata": {},
   "source": [
    "#### Copy to Redshift at scale...\n",
    "\n",
    "Data is first staged in S3 then a [COPY](https://docs.aws.amazon.com/redshift/latest/dg/r_COPY.html) command is executed against the Redshift cluster to load it. Both operations are distributed: S3 write with Ray and COPY in the Redshift cluster"
   ]
  },
  {
   "cell_type": "code",
   "execution_count": 8,
   "metadata": {},
   "outputs": [
    {
     "name": "stderr",
     "output_type": "stream",
     "text": [
      "Repartition: 100%|██████████| 1/1 [00:00<00:00,  1.42it/s]\n",
      "Write Progress: 100%|██████████| 1/1 [00:06<00:00,  6.19s/it]\n"
     ]
    }
   ],
   "source": [
    "# Connect to the Redshift instance\n",
    "con = wr.redshift.connect(\"aws-sdk-pandas-redshift\")\n",
    "\n",
    "path = f\"s3://{bucket}/stage/\"\n",
    "iam_role = \"IAM_ROLE\"\n",
    "schema = \"public\"\n",
    "table = \"amazon_reviews\"\n",
    "\n",
    "wr.redshift.copy(\n",
    "    df=filtered_df,\n",
    "    path=path,\n",
    "    con=con,\n",
    "    schema=schema,\n",
    "    table=table,\n",
    "    mode=\"overwrite\",\n",
    "    iam_role=iam_role,\n",
    "    max_rows_by_file=None,\n",
    ")"
   ]
  },
  {
   "cell_type": "markdown",
   "metadata": {},
   "source": [
    "#### ... and UNLOAD it back\n",
    "\n",
    "Parallel calls can also be leveraged when reading from the cluster. The [UNLOAD](https://docs.aws.amazon.com/redshift/latest/dg/r_UNLOAD.html) command distributes query processing in Redshift to dump files in S3 which are then read in parallel into a dataframe"
   ]
  },
  {
   "cell_type": "code",
   "execution_count": 9,
   "metadata": {},
   "outputs": [
    {
     "name": "stderr",
     "output_type": "stream",
     "text": [
      "2022-10-20 11:20:02,369\tWARNING read_api.py:291 -- ⚠️  The number of blocks in this dataset (2) limits its parallelism to 2 concurrent tasks. This is much less than the number of available CPU slots in the cluster. Use `.repartition(n)` to increase the number of dataset blocks.\n",
      "Read progress: 100%|██████████| 2/2 [00:01<00:00,  1.41it/s]\n"
     ]
    },
    {
     "data": {
      "text/html": [
       "<div>\n",
       "<style scoped>\n",
       "    .dataframe tbody tr th:only-of-type {\n",
       "        vertical-align: middle;\n",
       "    }\n",
       "\n",
       "    .dataframe tbody tr th {\n",
       "        vertical-align: top;\n",
       "    }\n",
       "\n",
       "    .dataframe thead th {\n",
       "        text-align: right;\n",
       "    }\n",
       "</style>\n",
       "<table border=\"1\" class=\"dataframe\">\n",
       "  <thead>\n",
       "    <tr style=\"text-align: right;\">\n",
       "      <th></th>\n",
       "      <th>marketplace</th>\n",
       "      <th>customer_id</th>\n",
       "      <th>review_id</th>\n",
       "      <th>product_id</th>\n",
       "      <th>product_parent</th>\n",
       "      <th>star_rating</th>\n",
       "      <th>helpful_votes</th>\n",
       "      <th>total_votes</th>\n",
       "      <th>vine</th>\n",
       "      <th>verified_purchase</th>\n",
       "      <th>review_date</th>\n",
       "      <th>year</th>\n",
       "    </tr>\n",
       "  </thead>\n",
       "  <tbody>\n",
       "    <tr>\n",
       "      <th>0</th>\n",
       "      <td>US</td>\n",
       "      <td>23875938</td>\n",
       "      <td>RC5BC3HYUV324</td>\n",
       "      <td>B000EPKLFA</td>\n",
       "      <td>878266274</td>\n",
       "      <td>5</td>\n",
       "      <td>15</td>\n",
       "      <td>17</td>\n",
       "      <td>N</td>\n",
       "      <td>Y</td>\n",
       "      <td>2009-07-12</td>\n",
       "      <td>2009</td>\n",
       "    </tr>\n",
       "    <tr>\n",
       "      <th>1</th>\n",
       "      <td>US</td>\n",
       "      <td>22174246</td>\n",
       "      <td>R3MFRIKP6HMH0W</td>\n",
       "      <td>B001NJ4J6I</td>\n",
       "      <td>394928248</td>\n",
       "      <td>5</td>\n",
       "      <td>20</td>\n",
       "      <td>23</td>\n",
       "      <td>N</td>\n",
       "      <td>Y</td>\n",
       "      <td>2009-07-19</td>\n",
       "      <td>2009</td>\n",
       "    </tr>\n",
       "    <tr>\n",
       "      <th>2</th>\n",
       "      <td>US</td>\n",
       "      <td>52886745</td>\n",
       "      <td>R1T9C0QELFI939</td>\n",
       "      <td>B0012ZNNR4</td>\n",
       "      <td>364197484</td>\n",
       "      <td>5</td>\n",
       "      <td>32</td>\n",
       "      <td>33</td>\n",
       "      <td>N</td>\n",
       "      <td>N</td>\n",
       "      <td>2009-07-24</td>\n",
       "      <td>2009</td>\n",
       "    </tr>\n",
       "    <tr>\n",
       "      <th>3</th>\n",
       "      <td>US</td>\n",
       "      <td>14527742</td>\n",
       "      <td>R2CIP31EO2GXDK</td>\n",
       "      <td>B000M5Z98G</td>\n",
       "      <td>199037166</td>\n",
       "      <td>5</td>\n",
       "      <td>12</td>\n",
       "      <td>12</td>\n",
       "      <td>N</td>\n",
       "      <td>Y</td>\n",
       "      <td>2009-08-23</td>\n",
       "      <td>2009</td>\n",
       "    </tr>\n",
       "    <tr>\n",
       "      <th>4</th>\n",
       "      <td>US</td>\n",
       "      <td>41393002</td>\n",
       "      <td>R29IOXB832QR6L</td>\n",
       "      <td>B0071HBVYE</td>\n",
       "      <td>956030824</td>\n",
       "      <td>5</td>\n",
       "      <td>16</td>\n",
       "      <td>16</td>\n",
       "      <td>N</td>\n",
       "      <td>Y</td>\n",
       "      <td>2012-07-12</td>\n",
       "      <td>2012</td>\n",
       "    </tr>\n",
       "    <tr>\n",
       "      <th>...</th>\n",
       "      <td>...</td>\n",
       "      <td>...</td>\n",
       "      <td>...</td>\n",
       "      <td>...</td>\n",
       "      <td>...</td>\n",
       "      <td>...</td>\n",
       "      <td>...</td>\n",
       "      <td>...</td>\n",
       "      <td>...</td>\n",
       "      <td>...</td>\n",
       "      <td>...</td>\n",
       "      <td>...</td>\n",
       "    </tr>\n",
       "    <tr>\n",
       "      <th>16022</th>\n",
       "      <td>US</td>\n",
       "      <td>20481704</td>\n",
       "      <td>R2KV325KBKDKL8</td>\n",
       "      <td>B00G701H5E</td>\n",
       "      <td>703622282</td>\n",
       "      <td>5</td>\n",
       "      <td>16</td>\n",
       "      <td>16</td>\n",
       "      <td>N</td>\n",
       "      <td>N</td>\n",
       "      <td>2014-11-06</td>\n",
       "      <td>2014</td>\n",
       "    </tr>\n",
       "    <tr>\n",
       "      <th>16023</th>\n",
       "      <td>US</td>\n",
       "      <td>37023256</td>\n",
       "      <td>R1FJT6UF7KM8GV</td>\n",
       "      <td>B005VY8U8Y</td>\n",
       "      <td>220718418</td>\n",
       "      <td>5</td>\n",
       "      <td>23</td>\n",
       "      <td>25</td>\n",
       "      <td>N</td>\n",
       "      <td>Y</td>\n",
       "      <td>2014-11-08</td>\n",
       "      <td>2014</td>\n",
       "    </tr>\n",
       "    <tr>\n",
       "      <th>16024</th>\n",
       "      <td>US</td>\n",
       "      <td>24286944</td>\n",
       "      <td>R1RSIZBY4Z3PF2</td>\n",
       "      <td>B00LNCDGKU</td>\n",
       "      <td>934098561</td>\n",
       "      <td>5</td>\n",
       "      <td>47</td>\n",
       "      <td>49</td>\n",
       "      <td>N</td>\n",
       "      <td>Y</td>\n",
       "      <td>2014-11-14</td>\n",
       "      <td>2014</td>\n",
       "    </tr>\n",
       "    <tr>\n",
       "      <th>16025</th>\n",
       "      <td>US</td>\n",
       "      <td>15276457</td>\n",
       "      <td>R31YFDIUQ2HI2X</td>\n",
       "      <td>B005KFHWPG</td>\n",
       "      <td>310427061</td>\n",
       "      <td>5</td>\n",
       "      <td>19</td>\n",
       "      <td>20</td>\n",
       "      <td>N</td>\n",
       "      <td>Y</td>\n",
       "      <td>2014-11-15</td>\n",
       "      <td>2014</td>\n",
       "    </tr>\n",
       "    <tr>\n",
       "      <th>16026</th>\n",
       "      <td>US</td>\n",
       "      <td>52215985</td>\n",
       "      <td>R11U6K1OIDEUKH</td>\n",
       "      <td>B00NEJ4Y4M</td>\n",
       "      <td>22567782</td>\n",
       "      <td>5</td>\n",
       "      <td>62</td>\n",
       "      <td>67</td>\n",
       "      <td>Y</td>\n",
       "      <td>N</td>\n",
       "      <td>2014-11-16</td>\n",
       "      <td>2014</td>\n",
       "    </tr>\n",
       "  </tbody>\n",
       "</table>\n",
       "<p>16027 rows x 12 columns</p>\n",
       "</div>"
      ],
      "text/plain": [
       "      marketplace customer_id       review_id  product_id product_parent  \\\n",
       "0              US    23875938   RC5BC3HYUV324  B000EPKLFA      878266274   \n",
       "1              US    22174246  R3MFRIKP6HMH0W  B001NJ4J6I      394928248   \n",
       "2              US    52886745  R1T9C0QELFI939  B0012ZNNR4      364197484   \n",
       "3              US    14527742  R2CIP31EO2GXDK  B000M5Z98G      199037166   \n",
       "4              US    41393002  R29IOXB832QR6L  B0071HBVYE      956030824   \n",
       "...           ...         ...             ...         ...            ...   \n",
       "16022          US    20481704  R2KV325KBKDKL8  B00G701H5E      703622282   \n",
       "16023          US    37023256  R1FJT6UF7KM8GV  B005VY8U8Y      220718418   \n",
       "16024          US    24286944  R1RSIZBY4Z3PF2  B00LNCDGKU      934098561   \n",
       "16025          US    15276457  R31YFDIUQ2HI2X  B005KFHWPG      310427061   \n",
       "16026          US    52215985  R11U6K1OIDEUKH  B00NEJ4Y4M       22567782   \n",
       "\n",
       "       star_rating  helpful_votes  total_votes vine verified_purchase  \\\n",
       "0                5             15           17    N                 Y   \n",
       "1                5             20           23    N                 Y   \n",
       "2                5             32           33    N                 N   \n",
       "3                5             12           12    N                 Y   \n",
       "4                5             16           16    N                 Y   \n",
       "...            ...            ...          ...  ...               ...   \n",
       "16022            5             16           16    N                 N   \n",
       "16023            5             23           25    N                 Y   \n",
       "16024            5             47           49    N                 Y   \n",
       "16025            5             19           20    N                 Y   \n",
       "16026            5             62           67    Y                 N   \n",
       "\n",
       "      review_date  year  \n",
       "0      2009-07-12  2009  \n",
       "1      2009-07-19  2009  \n",
       "2      2009-07-24  2009  \n",
       "3      2009-08-23  2009  \n",
       "4      2012-07-12  2012  \n",
       "...           ...   ...  \n",
       "16022  2014-11-06  2014  \n",
       "16023  2014-11-08  2014  \n",
       "16024  2014-11-14  2014  \n",
       "16025  2014-11-15  2014  \n",
       "16026  2014-11-16  2014  \n",
       "\n",
       "[16027 rows x 12 columns]"
      ]
     },
     "execution_count": 12,
     "metadata": {},
     "output_type": "execute_result"
    }
   ],
   "source": [
    "wr.redshift.unload(\n",
    "    sql=f\"SELECT * FROM {schema}.{table} where star_rating = 5\",\n",
    "    con=con,\n",
    "    iam_role=iam_role,\n",
    "    path=path,\n",
    "    keep_files=True,\n",
    ")"
   ]
  },
  {
   "cell_type": "markdown",
   "metadata": {},
   "source": [
    "#### Find a needle in a hay stack with S3 Select"
   ]
  },
  {
   "cell_type": "code",
   "execution_count": 10,
   "metadata": {},
   "outputs": [
    {
     "name": "stderr",
     "output_type": "stream",
     "text": [
      "UserWarning: When using a pre-initialized Ray cluster, please ensure that the runtime env sets environment variable __MODIN_AUTOIMPORT_PANDAS__ to 1\n"
     ]
    },
    {
     "data": {
      "text/html": [
       "<div>\n",
       "<style scoped>\n",
       "    .dataframe tbody tr th:only-of-type {\n",
       "        vertical-align: middle;\n",
       "    }\n",
       "\n",
       "    .dataframe tbody tr th {\n",
       "        vertical-align: top;\n",
       "    }\n",
       "\n",
       "    .dataframe thead th {\n",
       "        text-align: right;\n",
       "    }\n",
       "</style>\n",
       "<table border=\"1\" class=\"dataframe\">\n",
       "  <thead>\n",
       "    <tr style=\"text-align: right;\">\n",
       "      <th></th>\n",
       "      <th>marketplace</th>\n",
       "      <th>customer_id</th>\n",
       "      <th>review_id</th>\n",
       "      <th>product_id</th>\n",
       "      <th>product_parent</th>\n",
       "      <th>product_title</th>\n",
       "      <th>star_rating</th>\n",
       "      <th>helpful_votes</th>\n",
       "      <th>total_votes</th>\n",
       "      <th>vine</th>\n",
       "      <th>verified_purchase</th>\n",
       "      <th>review_headline</th>\n",
       "      <th>review_body</th>\n",
       "      <th>review_date</th>\n",
       "      <th>year</th>\n",
       "    </tr>\n",
       "  </thead>\n",
       "  <tbody>\n",
       "    <tr>\n",
       "      <th>0</th>\n",
       "      <td>US</td>\n",
       "      <td>51624146</td>\n",
       "      <td>RU9SWH8SHOBBS</td>\n",
       "      <td>B001ERDENS</td>\n",
       "      <td>658861629</td>\n",
       "      <td>LINKYO Compatible Toner Cartridge Replacement ...</td>\n",
       "      <td>5</td>\n",
       "      <td>0</td>\n",
       "      <td>0</td>\n",
       "      <td>N</td>\n",
       "      <td>Y</td>\n",
       "      <td>Perfect fit for my HP LaserJet M1522 nf</td>\n",
       "      <td>I will never buy &amp;#34;official&amp;#34; toner cart...</td>\n",
       "      <td>2013-07-12</td>\n",
       "      <td>2013</td>\n",
       "    </tr>\n",
       "    <tr>\n",
       "      <th>1</th>\n",
       "      <td>US</td>\n",
       "      <td>51624146</td>\n",
       "      <td>RAO9QADXC9TUH</td>\n",
       "      <td>B00GJQA4TG</td>\n",
       "      <td>184072656</td>\n",
       "      <td>SuperChalks White Liquid Chalk Marker Pens 4-P...</td>\n",
       "      <td>4</td>\n",
       "      <td>0</td>\n",
       "      <td>0</td>\n",
       "      <td>N</td>\n",
       "      <td>Y</td>\n",
       "      <td>Smooth flowing \"ink, \" but these markers left ...</td>\n",
       "      <td>Smooth flowing &amp;#34;ink,&amp;#34; but these marker...</td>\n",
       "      <td>2014-10-06</td>\n",
       "      <td>2014</td>\n",
       "    </tr>\n",
       "    <tr>\n",
       "      <th>2</th>\n",
       "      <td>US</td>\n",
       "      <td>51624146</td>\n",
       "      <td>R1D94CA7TKY9DU</td>\n",
       "      <td>B000MK647G</td>\n",
       "      <td>396184528</td>\n",
       "      <td>Fax Toner Cartridge for Brother IntelliFax 575...</td>\n",
       "      <td>5</td>\n",
       "      <td>0</td>\n",
       "      <td>0</td>\n",
       "      <td>N</td>\n",
       "      <td>Y</td>\n",
       "      <td>Came quickly, works great</td>\n",
       "      <td>I bought four of these for my office. Just kno...</td>\n",
       "      <td>2014-03-26</td>\n",
       "      <td>2014</td>\n",
       "    </tr>\n",
       "  </tbody>\n",
       "</table>\n",
       "</div>"
      ],
      "text/plain": [
       "  marketplace customer_id       review_id  product_id product_parent  \\\n",
       "0          US    51624146   RU9SWH8SHOBBS  B001ERDENS      658861629   \n",
       "1          US    51624146   RAO9QADXC9TUH  B00GJQA4TG      184072656   \n",
       "2          US    51624146  R1D94CA7TKY9DU  B000MK647G      396184528   \n",
       "\n",
       "                                       product_title  star_rating  \\\n",
       "0  LINKYO Compatible Toner Cartridge Replacement ...            5   \n",
       "1  SuperChalks White Liquid Chalk Marker Pens 4-P...            4   \n",
       "2  Fax Toner Cartridge for Brother IntelliFax 575...            5   \n",
       "\n",
       "   helpful_votes  total_votes vine verified_purchase  \\\n",
       "0              0            0    N                 Y   \n",
       "1              0            0    N                 Y   \n",
       "2              0            0    N                 Y   \n",
       "\n",
       "                                     review_headline  \\\n",
       "0            Perfect fit for my HP LaserJet M1522 nf   \n",
       "1  Smooth flowing \"ink, \" but these markers left ...   \n",
       "2                          Came quickly, works great   \n",
       "\n",
       "                                         review_body review_date  year  \n",
       "0  I will never buy &#34;official&#34; toner cart...  2013-07-12  2013  \n",
       "1  Smooth flowing &#34;ink,&#34; but these marker...  2014-10-06  2014  \n",
       "2  I bought four of these for my office. Just kno...  2014-03-26  2014  "
      ]
     },
     "execution_count": 14,
     "metadata": {},
     "output_type": "execute_result"
    }
   ],
   "source": [
    "# Run S3 Select query against all objects in the category for a given customer ID\n",
    "wr.s3.select_query(\n",
    "    sql=\"SELECT * FROM s3object s where s.\\\"customer_id\\\" = '51624146'\",\n",
    "    path=\"s3://amazon-reviews-pds/parquet/product_category=Office_Products/*.parquet\",\n",
    "    input_serialization=\"Parquet\",\n",
    "    input_serialization_params={},\n",
    "    scan_range_chunk_size=32*1024*1024,\n",
    ")"
   ]
  }
 ],
 "metadata": {
  "kernelspec": {
   "display_name": "awswrangler-v9JnknIF-py3.8",
   "language": "python",
   "name": "python3"
  },
  "language_info": {
   "codemirror_mode": {
    "name": "ipython",
    "version": 3
   },
   "file_extension": ".py",
   "mimetype": "text/x-python",
   "name": "python",
   "nbconvert_exporter": "python",
   "pygments_lexer": "ipython3",
   "version": "3.8.5"
  },
  "vscode": {
   "interpreter": {
    "hash": "83297b058d59ee0acd247586c837429190a8258f15c0eea6234359f5557dde51"
   }
  }
 },
 "nbformat": 4,
 "nbformat_minor": 4
}
