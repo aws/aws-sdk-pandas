{
 "cells": [
  {
   "cell_type": "markdown",
   "metadata": {},
   "source": [
    "[![AWS Data Wrangler](_static/logo.png \"AWS Data Wrangler\")](https://github.com/awslabs/aws-data-wrangler)\n",
    "\n",
    "# 1 - Introduction"
   ]
  },
  {
   "cell_type": "markdown",
   "metadata": {},
   "source": [
    "## What is AWS Data Wrangler?\n",
    "\n",
    "An [open-source](https://github.com/awslabs/aws-data-wrangler>) Python package that extends the power of [Pandas](https://github.com/pandas-dev/pandas>) library to AWS connecting **DataFrames** and AWS data related services (**Amazon Redshift**, **AWS Glue**, **Amazon Athena**, **Amazon EMR**, etc).\n",
    "\n",
    "Built on top of other open-source projects like [Pandas](https://github.com/pandas-dev/pandas), [Apache Arrow](https://github.com/apache/arrow), [Boto3](https://github.com/boto/boto3), [SQLAlchemy](https://github.com/sqlalchemy/sqlalchemy), [Psycopg2](https://github.com/psycopg/psycopg2) and [PyMySQL](https://github.com/PyMySQL/PyMySQL), it offers abstracted functions to execute usual ETL tasks like load/unload data from **Data Lakes**, **Data Warehouses** and **Databases**.\n",
    "\n",
    "Check our [list of functionalities](https://aws-data-wrangler.readthedocs.io/en/stable/api.html)."
   ]
  },
  {
   "cell_type": "markdown",
   "metadata": {},
   "source": [
    "## How to install?\n",
    "\n",
    "The Wrangler runs almost anywhere over Python 3.6, 3.7 and 3.8, so there are several different ways to install it in the desired enviroment.\n",
    "\n",
    "  - [PyPi (pip)](https://aws-data-wrangler.readthedocs.io/en/stable/install.html#pypi-pip)\n",
    "  - [Conda](https://aws-data-wrangler.readthedocs.io/en/stable/install.html#conda)\n",
    "  - [AWS Lambda Layer](https://aws-data-wrangler.readthedocs.io/en/stable/install.html#aws-lambda-layer)\n",
    "  - [AWS Glue Python Shell Jobs](https://aws-data-wrangler.readthedocs.io/en/stable/install.html#aws-glue-python-shell-jobs)\n",
    "  - [AWS Glue PySpark Jobs](https://aws-data-wrangler.readthedocs.io/en/stable/install.html#aws-glue-pyspark-jobs)\n",
    "  - [Amazon SageMaker Notebook](https://aws-data-wrangler.readthedocs.io/en/stable/install.html#amazon-sagemaker-notebook)\n",
    "  - [Amazon SageMaker Notebook Lifecycle](https://aws-data-wrangler.readthedocs.io/en/stable/install.html#amazon-sagemaker-notebook-lifecycle)\n",
    "  - [EMR Cluster](https://aws-data-wrangler.readthedocs.io/en/stable/install.html#emr-cluster)\n",
    "  - [From source](https://aws-data-wrangler.readthedocs.io/en/stable/install.html#from-source)\n",
    "\n",
    "Some good practices for most of the above methods are:\n",
    "  - Use new and individual Virtual Environments for each project ([venv](https://docs.python.org/3/library/venv.html))\n",
    "  - On Notebooks, always restart your kernel after installations."
   ]
  },
  {
   "cell_type": "markdown",
   "metadata": {},
   "source": [
    "## Let's Install it!"
   ]
  },
  {
   "cell_type": "code",
   "execution_count": null,
   "metadata": {},
   "outputs": [],
   "source": [
    "!pip install awswrangler"
   ]
  },
  {
   "cell_type": "markdown",
   "metadata": {},
   "source": [
    "> Restart your kernel after the installation!"
   ]
  },
  {
   "cell_type": "code",
   "execution_count": 2,
   "metadata": {},
   "outputs": [
    {
     "data": {
      "text/plain": [
       "'1.9.0'"
      ]
     },
     "execution_count": 2,
     "metadata": {},
     "output_type": "execute_result"
    }
   ],
   "source": [
    "import awswrangler as wr\n",
    "\n",
    "wr.__version__"
   ]
  }
 ],
 "metadata": {
  "kernelspec": {
   "display_name": "Python 3",
   "language": "python",
   "name": "python3"
  },
  "language_info": {
   "codemirror_mode": {
    "name": "ipython",
    "version": 3
   },
   "file_extension": ".py",
   "mimetype": "text/x-python",
   "name": "python",
   "nbconvert_exporter": "python",
   "pygments_lexer": "ipython3",
   "version": "3.6.11"
  }
 },
 "nbformat": 4,
 "nbformat_minor": 4
}
