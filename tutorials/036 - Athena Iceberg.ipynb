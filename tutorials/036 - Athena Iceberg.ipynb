{
 "cells": [
  {
   "cell_type": "markdown",
   "metadata": {
    "pycharm": {
     "name": "#%% md\n"
    }
   },
   "source": [
    "[![AWS SDK for pandas](_static/logo.png \"AWS SDK for pandas\")](https://github.com/aws/aws-sdk-pandas)"
   ]
  },
  {
   "cell_type": "markdown",
   "metadata": {
    "pycharm": {
     "name": "#%% md\n"
    }
   },
   "source": []
  },
  {
   "cell_type": "markdown",
   "source": [
    "Athena supports read, time travel, write, and DDL queries for Apache Iceberg tables that use the Apache Parquet format for data and the AWS Glue catalog for their metastore. More in [User Guide](https://docs.aws.amazon.com/athena/latest/ug/querying-iceberg.html)."
   ],
   "metadata": {
    "collapsed": false,
    "pycharm": {
     "name": "#%% md\n"
    }
   }
  },
  {
   "cell_type": "markdown",
   "source": [
    "### Create Iceberg table"
   ],
   "metadata": {
    "collapsed": false,
    "pycharm": {
     "name": "#%% md\n"
    }
   }
  },
  {
   "cell_type": "code",
   "execution_count": 43,
   "outputs": [],
   "source": [
    "import awswrangler as wr\n",
    "\n",
    "glue_database = \"aws_sdk_pandas\"\n",
    "glue_table = \"iceberg_test\"\n",
    "path = \"s3://.../iceberg_test/\"\n",
    "\n",
    "# Cleanup table before create\n",
    "wr.catalog.delete_table_if_exists(database=glue_database, table=glue_table)\n",
    "\n",
    "create_sql = (\n",
    "    f\"CREATE TABLE {glue_table} (id int, name string) \"\n",
    "    f\"LOCATION '{path}' \"\n",
    "    f\"TBLPROPERTIES ( 'table_type' ='ICEBERG', 'format'='parquet' )\"\n",
    ")\n",
    "\n",
    "query_execution_id = wr.athena.start_query_execution(\n",
    "    sql=create_sql,\n",
    "    database=glue_database,\n",
    "    wait=True,\n",
    ")"
   ],
   "metadata": {
    "collapsed": false,
    "pycharm": {
     "name": "#%%\n"
    }
   }
  },
  {
   "cell_type": "markdown",
   "source": [
    "### Insert data"
   ],
   "metadata": {
    "collapsed": false,
    "pycharm": {
     "name": "#%% md\n"
    }
   }
  },
  {
   "cell_type": "code",
   "execution_count": 44,
   "outputs": [],
   "source": [
    "query_execution_id = wr.athena.start_query_execution(\n",
    "    sql=f\"INSERT INTO {glue_table} VALUES (1,'John'), (2, 'Lily'), (3, 'Richard')\",\n",
    "    database=glue_database,\n",
    "    wait=True,\n",
    ")"
   ],
   "metadata": {
    "collapsed": false,
    "pycharm": {
     "name": "#%%\n"
    }
   }
  },
  {
   "cell_type": "code",
   "execution_count": 45,
   "outputs": [],
   "source": [
    "query_execution_id = wr.athena.start_query_execution(\n",
    "    sql=f\"INSERT INTO {glue_table} VALUES (4,'Anne'), (5, 'Jacob'), (6, 'Leon')\",\n",
    "    database=glue_database,\n",
    "    wait=True,\n",
    ")"
   ],
   "metadata": {
    "collapsed": false,
    "pycharm": {
     "name": "#%%\n"
    }
   }
  },
  {
   "cell_type": "markdown",
   "source": [
    "### Read query metadata"
   ],
   "metadata": {
    "collapsed": false,
    "pycharm": {
     "name": "#%% md\n"
    }
   }
  },
  {
   "cell_type": "markdown",
   "source": [
    "In a SELECT query, you can use the following properties after `table_name` to query Iceberg table metadata:"
   ],
   "metadata": {
    "collapsed": false,
    "pycharm": {
     "name": "#%% md\n"
    }
   }
  },
  {
   "cell_type": "markdown",
   "source": [
    "- `$files` Shows a table's current data files"
   ],
   "metadata": {
    "collapsed": false,
    "pycharm": {
     "name": "#%% md\n"
    }
   }
  },
  {
   "cell_type": "markdown",
   "source": [
    "- `$manifests` Shows a table's current file manifests"
   ],
   "metadata": {
    "collapsed": false,
    "pycharm": {
     "name": "#%% md\n"
    }
   }
  },
  {
   "cell_type": "markdown",
   "source": [
    "- `$history` Shows a table's history"
   ],
   "metadata": {
    "collapsed": false,
    "pycharm": {
     "name": "#%% md\n"
    }
   }
  },
  {
   "cell_type": "markdown",
   "source": [
    "- `$partitions` Shows a table's current partitions"
   ],
   "metadata": {
    "collapsed": false,
    "pycharm": {
     "name": "#%% md\n"
    }
   }
  },
  {
   "cell_type": "code",
   "execution_count": 14,
   "outputs": [
    {
     "data": {
      "text/plain": "   content                                          file_path file_format  \\\n0        0  s3://.../iceberg_test/01/data/2...     PARQUET   \n1        0  s3://.../iceberg_test/01/data/3...     PARQUET   \n\n   record_count  file_size_in_bytes  column_sizes value_counts  \\\n0             3                 355  {1=48, 2=61}   {1=3, 2=3}   \n1             3                 360  {1=48, 2=63}   {1=3, 2=3}   \n\n  null_value_counts nan_value_counts   lower_bounds      upper_bounds  \\\n0        {1=0, 2=0}               {}  {1=4, 2=Anne}     {1=6, 2=Leon}   \n1        {1=0, 2=0}               {}  {1=1, 2=John}  {1=3, 2=Richard}   \n\n  key_metadata split_offsets equality_ids  \n0         <NA>           NaN          NaN  \n1         <NA>           NaN          NaN  ",
      "text/html": "<div>\n<style scoped>\n    .dataframe tbody tr th:only-of-type {\n        vertical-align: middle;\n    }\n\n    .dataframe tbody tr th {\n        vertical-align: top;\n    }\n\n    .dataframe thead th {\n        text-align: right;\n    }\n</style>\n<table border=\"1\" class=\"dataframe\">\n  <thead>\n    <tr style=\"text-align: right;\">\n      <th></th>\n      <th>content</th>\n      <th>file_path</th>\n      <th>file_format</th>\n      <th>record_count</th>\n      <th>file_size_in_bytes</th>\n      <th>column_sizes</th>\n      <th>value_counts</th>\n      <th>null_value_counts</th>\n      <th>nan_value_counts</th>\n      <th>lower_bounds</th>\n      <th>upper_bounds</th>\n      <th>key_metadata</th>\n      <th>split_offsets</th>\n      <th>equality_ids</th>\n    </tr>\n  </thead>\n  <tbody>\n    <tr>\n      <th>0</th>\n      <td>0</td>\n      <td>s3://.../iceberg_test/01/data/2...</td>\n      <td>PARQUET</td>\n      <td>3</td>\n      <td>355</td>\n      <td>{1=48, 2=61}</td>\n      <td>{1=3, 2=3}</td>\n      <td>{1=0, 2=0}</td>\n      <td>{}</td>\n      <td>{1=4, 2=Anne}</td>\n      <td>{1=6, 2=Leon}</td>\n      <td>&lt;NA&gt;</td>\n      <td>NaN</td>\n      <td>NaN</td>\n    </tr>\n    <tr>\n      <th>1</th>\n      <td>0</td>\n      <td>s3://.../iceberg_test/01/data/3...</td>\n      <td>PARQUET</td>\n      <td>3</td>\n      <td>360</td>\n      <td>{1=48, 2=63}</td>\n      <td>{1=3, 2=3}</td>\n      <td>{1=0, 2=0}</td>\n      <td>{}</td>\n      <td>{1=1, 2=John}</td>\n      <td>{1=3, 2=Richard}</td>\n      <td>&lt;NA&gt;</td>\n      <td>NaN</td>\n      <td>NaN</td>\n    </tr>\n  </tbody>\n</table>\n</div>"
     },
     "execution_count": 14,
     "metadata": {},
     "output_type": "execute_result"
    }
   ],
   "source": [
    "wr.athena.read_sql_query(\n",
    "    sql=f'SELECT * FROM \"{glue_table}$files\"',\n",
    "    database=glue_database,\n",
    "    ctas_approach=False,\n",
    "    unload_approach=False,\n",
    ")"
   ],
   "metadata": {
    "collapsed": false,
    "pycharm": {
     "name": "#%%\n"
    }
   }
  },
  {
   "cell_type": "code",
   "execution_count": 17,
   "outputs": [
    {
     "data": {
      "text/plain": "                                                path  length  \\\n0  s3://.../iceberg_test/01/metada...    6546   \n1  s3://.../iceberg_test/01/metada...    6550   \n\n   partition_spec_id    added_snapshot_id  added_data_files_count  \\\n0                  0  1445575484465379918                       1   \n1                  0  1863224087207392743                       1   \n\n   added_rows_count  existing_data_files_count  existing_rows_count  \\\n0                 3                          0                    0   \n1                 3                          0                    0   \n\n   deleted_data_files_count  deleted_rows_count partitions  \n0                         0                   0         []  \n1                         0                   0         []  ",
      "text/html": "<div>\n<style scoped>\n    .dataframe tbody tr th:only-of-type {\n        vertical-align: middle;\n    }\n\n    .dataframe tbody tr th {\n        vertical-align: top;\n    }\n\n    .dataframe thead th {\n        text-align: right;\n    }\n</style>\n<table border=\"1\" class=\"dataframe\">\n  <thead>\n    <tr style=\"text-align: right;\">\n      <th></th>\n      <th>path</th>\n      <th>length</th>\n      <th>partition_spec_id</th>\n      <th>added_snapshot_id</th>\n      <th>added_data_files_count</th>\n      <th>added_rows_count</th>\n      <th>existing_data_files_count</th>\n      <th>existing_rows_count</th>\n      <th>deleted_data_files_count</th>\n      <th>deleted_rows_count</th>\n      <th>partitions</th>\n    </tr>\n  </thead>\n  <tbody>\n    <tr>\n      <th>0</th>\n      <td>s3://.../iceberg_test/01/metada...</td>\n      <td>6546</td>\n      <td>0</td>\n      <td>1445575484465379918</td>\n      <td>1</td>\n      <td>3</td>\n      <td>0</td>\n      <td>0</td>\n      <td>0</td>\n      <td>0</td>\n      <td>[]</td>\n    </tr>\n    <tr>\n      <th>1</th>\n      <td>s3://.../iceberg_test/01/metada...</td>\n      <td>6550</td>\n      <td>0</td>\n      <td>1863224087207392743</td>\n      <td>1</td>\n      <td>3</td>\n      <td>0</td>\n      <td>0</td>\n      <td>0</td>\n      <td>0</td>\n      <td>[]</td>\n    </tr>\n  </tbody>\n</table>\n</div>"
     },
     "execution_count": 17,
     "metadata": {},
     "output_type": "execute_result"
    }
   ],
   "source": [
    "wr.athena.read_sql_query(\n",
    "    sql=f'SELECT * FROM \"{glue_table}$manifests\"',\n",
    "    database=glue_database,\n",
    "    ctas_approach=False,\n",
    "    unload_approach=False,\n",
    ")"
   ],
   "metadata": {
    "collapsed": false,
    "pycharm": {
     "name": "#%%\n"
    }
   }
  },
  {
   "cell_type": "code",
   "execution_count": 26,
   "outputs": [
    {
     "data": {
      "text/plain": "                   made_current_at          snapshot_id            parent_id  \\\n0 2023-03-15 14:52:42.286000+00:00  1863224087207392743                 <NA>   \n1 2023-03-15 14:52:53.843000+00:00  1445575484465379918  1863224087207392768   \n\n   is_current_ancestor  \n0                 True  \n1                 True  ",
      "text/html": "<div>\n<style scoped>\n    .dataframe tbody tr th:only-of-type {\n        vertical-align: middle;\n    }\n\n    .dataframe tbody tr th {\n        vertical-align: top;\n    }\n\n    .dataframe thead th {\n        text-align: right;\n    }\n</style>\n<table border=\"1\" class=\"dataframe\">\n  <thead>\n    <tr style=\"text-align: right;\">\n      <th></th>\n      <th>made_current_at</th>\n      <th>snapshot_id</th>\n      <th>parent_id</th>\n      <th>is_current_ancestor</th>\n    </tr>\n  </thead>\n  <tbody>\n    <tr>\n      <th>0</th>\n      <td>2023-03-15 14:52:42.286000+00:00</td>\n      <td>1863224087207392743</td>\n      <td>&lt;NA&gt;</td>\n      <td>True</td>\n    </tr>\n    <tr>\n      <th>1</th>\n      <td>2023-03-15 14:52:53.843000+00:00</td>\n      <td>1445575484465379918</td>\n      <td>1863224087207392768</td>\n      <td>True</td>\n    </tr>\n  </tbody>\n</table>\n</div>"
     },
     "execution_count": 26,
     "metadata": {},
     "output_type": "execute_result"
    }
   ],
   "source": [
    "df = wr.athena.read_sql_query(\n",
    "    sql=f'SELECT * FROM \"{glue_table}$history\"',\n",
    "    database=glue_database,\n",
    "    ctas_approach=False,\n",
    "    unload_approach=False,\n",
    ")\n",
    "\n",
    "snapshot_id = df.snapshot_id[0]\n",
    "\n",
    "df"
   ],
   "metadata": {
    "collapsed": false,
    "pycharm": {
     "name": "#%%\n"
    }
   }
  },
  {
   "cell_type": "code",
   "execution_count": 20,
   "outputs": [
    {
     "data": {
      "text/plain": "   record_count  file_count  total_size  \\\n0             6           2         715   \n\n                                                data  \n0  {id={min=1, max=6, null_count=0, nan_count=nul...  ",
      "text/html": "<div>\n<style scoped>\n    .dataframe tbody tr th:only-of-type {\n        vertical-align: middle;\n    }\n\n    .dataframe tbody tr th {\n        vertical-align: top;\n    }\n\n    .dataframe thead th {\n        text-align: right;\n    }\n</style>\n<table border=\"1\" class=\"dataframe\">\n  <thead>\n    <tr style=\"text-align: right;\">\n      <th></th>\n      <th>record_count</th>\n      <th>file_count</th>\n      <th>total_size</th>\n      <th>data</th>\n    </tr>\n  </thead>\n  <tbody>\n    <tr>\n      <th>0</th>\n      <td>6</td>\n      <td>2</td>\n      <td>715</td>\n      <td>{id={min=1, max=6, null_count=0, nan_count=nul...</td>\n    </tr>\n  </tbody>\n</table>\n</div>"
     },
     "execution_count": 20,
     "metadata": {},
     "output_type": "execute_result"
    }
   ],
   "source": [
    "wr.athena.read_sql_query(\n",
    "    sql=f'SELECT * FROM \"{glue_table}$partitions\"',\n",
    "    database=glue_database,\n",
    "    ctas_approach=False,\n",
    "    unload_approach=False,\n",
    ")"
   ],
   "metadata": {
    "collapsed": false,
    "pycharm": {
     "name": "#%%\n"
    }
   }
  },
  {
   "cell_type": "markdown",
   "source": [
    "### Time travel queries"
   ],
   "metadata": {
    "collapsed": false,
    "pycharm": {
     "name": "#%% md\n"
    }
   }
  },
  {
   "cell_type": "code",
   "execution_count": 36,
   "outputs": [
    {
     "data": {
      "text/plain": "   id     name\n0   1     John\n1   4     Anne\n2   2     Lily\n3   3  Richard\n4   5    Jacob\n5   6     Leon",
      "text/html": "<div>\n<style scoped>\n    .dataframe tbody tr th:only-of-type {\n        vertical-align: middle;\n    }\n\n    .dataframe tbody tr th {\n        vertical-align: top;\n    }\n\n    .dataframe thead th {\n        text-align: right;\n    }\n</style>\n<table border=\"1\" class=\"dataframe\">\n  <thead>\n    <tr style=\"text-align: right;\">\n      <th></th>\n      <th>id</th>\n      <th>name</th>\n    </tr>\n  </thead>\n  <tbody>\n    <tr>\n      <th>0</th>\n      <td>1</td>\n      <td>John</td>\n    </tr>\n    <tr>\n      <th>1</th>\n      <td>4</td>\n      <td>Anne</td>\n    </tr>\n    <tr>\n      <th>2</th>\n      <td>2</td>\n      <td>Lily</td>\n    </tr>\n    <tr>\n      <th>3</th>\n      <td>3</td>\n      <td>Richard</td>\n    </tr>\n    <tr>\n      <th>4</th>\n      <td>5</td>\n      <td>Jacob</td>\n    </tr>\n    <tr>\n      <th>5</th>\n      <td>6</td>\n      <td>Leon</td>\n    </tr>\n  </tbody>\n</table>\n</div>"
     },
     "execution_count": 36,
     "metadata": {},
     "output_type": "execute_result"
    }
   ],
   "source": [
    "wr.athena.read_sql_query(\n",
    "    sql=f\"SELECT * FROM {glue_table} FOR TIMESTAMP AS OF (current_timestamp - interval '5' second)\",\n",
    "    database=glue_database,\n",
    ")"
   ],
   "metadata": {
    "collapsed": false,
    "pycharm": {
     "name": "#%%\n"
    }
   }
  },
  {
   "cell_type": "markdown",
   "source": [
    "### Version travel queries\n"
   ],
   "metadata": {
    "collapsed": false,
    "pycharm": {
     "name": "#%% md\n"
    }
   }
  },
  {
   "cell_type": "code",
   "execution_count": 34,
   "outputs": [
    {
     "data": {
      "text/plain": "   id     name\n0   1     John\n1   2     Lily\n2   3  Richard",
      "text/html": "<div>\n<style scoped>\n    .dataframe tbody tr th:only-of-type {\n        vertical-align: middle;\n    }\n\n    .dataframe tbody tr th {\n        vertical-align: top;\n    }\n\n    .dataframe thead th {\n        text-align: right;\n    }\n</style>\n<table border=\"1\" class=\"dataframe\">\n  <thead>\n    <tr style=\"text-align: right;\">\n      <th></th>\n      <th>id</th>\n      <th>name</th>\n    </tr>\n  </thead>\n  <tbody>\n    <tr>\n      <th>0</th>\n      <td>1</td>\n      <td>John</td>\n    </tr>\n    <tr>\n      <th>1</th>\n      <td>2</td>\n      <td>Lily</td>\n    </tr>\n    <tr>\n      <th>2</th>\n      <td>3</td>\n      <td>Richard</td>\n    </tr>\n  </tbody>\n</table>\n</div>"
     },
     "execution_count": 34,
     "metadata": {},
     "output_type": "execute_result"
    }
   ],
   "source": [
    "wr.athena.read_sql_query(\n",
    "    sql=f\"SELECT * FROM {glue_table} FOR VERSION AS OF {snapshot_id}\",\n",
    "    database=glue_database,\n",
    ")"
   ],
   "metadata": {
    "collapsed": false,
    "pycharm": {
     "name": "#%%\n"
    }
   }
  }
 ],
 "metadata": {
  "kernelspec": {
   "display_name": "Python 3.9.14",
   "language": "python",
   "name": "python3"
  },
  "language_info": {
   "codemirror_mode": {
    "name": "ipython",
    "version": 3
   },
   "file_extension": ".py",
   "mimetype": "text/x-python",
   "name": "python",
   "nbconvert_exporter": "python",
   "pygments_lexer": "ipython3",
   "version": "3.9.14"
  }
 },
 "nbformat": 4,
 "nbformat_minor": 4
}